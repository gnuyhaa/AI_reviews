{
 "cells": [
  {
   "cell_type": "markdown",
   "id": "bcdd2181",
   "metadata": {},
   "source": [
    "### 상품목록 [] 삭제 후 분석 DB 저장 "
   ]
  },
  {
   "cell_type": "code",
   "execution_count": null,
   "id": "f1501f5f",
   "metadata": {},
   "outputs": [],
   "source": [
    "# 먼저 상품목록을 분석 DB에 저장\n",
    "#"
   ]
  },
  {
   "cell_type": "code",
   "execution_count": 6,
   "id": "e1d3623d",
   "metadata": {},
   "outputs": [],
   "source": [
    "from DB.db import dbcon"
   ]
  },
  {
   "cell_type": "code",
   "execution_count": null,
   "id": "df650088",
   "metadata": {},
   "outputs": [
    {
     "name": "stdout",
     "output_type": "stream",
     "text": [
      "NEW컬러! 카스테라 워싱 옥수수솜 간절기/사계절 차렵이불세트\n",
      "비침없는 도톰 레이스/쉬폰커튼(나비주름/핀형/봉집)\n"
     ]
    }
   ],
   "source": [
    "conn = dbcon()\n",
    "import re\n",
    "\n",
    "with conn.cursor() as cur:\n",
    "    cur.execute(\"SELECT productID, product_name FROM tb_products\")\n",
    "    result = cur.fetchall()\n",
    "\n",
    "    for i in result:\n",
    "        productID = i[0]\n",
    "        name = i[1]\n",
    "        clean_name = re.sub(\"\\[.*?\\]\", \"\", name)\n",
    "\n",
    "    #         cur.execute(\"INSERT INTO tb_분석AI테이블명 (productID, clean_name) VALUES (%s,%s)\",(productID, clean_name))\n",
    "    # conn.commit()"
   ]
  },
  {
   "cell_type": "markdown",
   "id": "f164b982",
   "metadata": {},
   "source": [
    "### 리뷰 내용 중 별점 선택 시 자동으로 들어가는 텍스트 삭제하고 분석 DB 저장"
   ]
  },
  {
   "cell_type": "code",
   "execution_count": null,
   "id": "82e4fc04",
   "metadata": {},
   "outputs": [],
   "source": [
    "# 리뷰 내용 중 너무 짧은 내용은 삭제하고 분석 테이블에 리뷰 내용 추가하도록\n",
    "# 별점-> 최고예요, 마음에 들어요, 보통이에요, 별로예요, 매우 아쉬워요 자동으로 들어가는 텍스트임"
   ]
  },
  {
   "cell_type": "code",
   "execution_count": null,
   "metadata": {},
   "outputs": [
    {
     "name": "stdout",
     "output_type": "stream",
     "text": [
      "\n",
      "삽입될 리뷰:\n",
      "- [53305893] 제품을 직접 사용해 보니 품질이 기대 이상으로 훌륭합니다. 마감이 깔끔하고 내구성도 좋아 오래 사용할 수 있을 것 같아요. 사용감도 편리하고 성능도 만족스러워서 재구매 의사 100%입니다. 주변에도 자신 있게 추천할 만한 제품이에요.\n",
      "- [53305745] 색감도 너무 예쁘고 사이즈 적당하고 푹신푹신합니다\n",
      "- [53291001] 땅에 닿는게 싫어서 쪼금 더 짧게 주문했는데 \n",
      "길이 너무 맘에 들어요 ㅎㅎㅎ 원하던대로 ㅎㅎ\n",
      "예쁩니다!!!! 커튼 재질도 좋고 가볍고 너무 좋아여!!!!\n",
      "- [53290715] 고르고 고르고 또 생각하고 구매했어요.\n",
      "그런만큼 정말 만족스러워요.\n",
      "이걸 속지로 쓰고, 겉지를 따로 구매하려했는데\n",
      "넘 예뻐서 겉지를 안하기로 했네요.\n",
      "원단도 나비주름도 넘 고급스러워요 ❤️ \n",
      "- [53308210] 지금까지 잘쓰고 있네요 포근하고 좋아요~\n",
      "- [53308125] 선물햇는데 받는 사람이 너무 죠아햇어요\n",
      "- [53306498] 보들보들하고 세탁기에 돌리기도 편해서 애용 중입니다\n",
      "- [53306432] 너무예뻐요 ,,, 포근포근해서 잠도 엄청 잘 오고 사계절용이라 에어컨 틀고 여름에 덮어도 괜찮습니다 ~~! 배송도 빨라서 택배 휴무 전에 바로 받을 수 있었어요 ㅎㅎ \n",
      "- [53294962] 결제 후에 따로 언제 배송오는지 사전에 연락이 와서 좋았어요. 지그재그로 접혀 배송되었는데 스팀다리미로 슥슥 밀어주니 주름도 많이 사라졌습니다. 혼자서도 레일 달기 쉽게 안내서도 함께 동봉되서 좋았구요~\n",
      "햇빛은 은은하게 들어오면서 저녁에는 가려줘 프라이버시는 보장되네요\n",
      "- [53316092] 이불감촉이 부들부들하고 살에 닿는느낌이 좋으네요\n",
      "- [53313553] 기대한 것보다 더 부드럽고 좋아요 부드러우면서도 냉감이 시원하게 느껴지니 이보다 더 좋을 순 없네요 감사합니다 아이들 하나씩 장만해 줬는데 모두 만족했어요 \n",
      "- [53313020] 완전 촉감 부드러워요!!\n",
      "사계절 사용할수 있긴 하지만 한여름에는 좀 더워요.\n",
      "저희집 사람들은 열이 많은 편이라서 여름보다는 조금 추운 계절에 맞는 편이긴 합니다.\n",
      "무엇보다 촉감이 너무 좋습니다.\n",
      "진짜 카스테라 느낌이 뭔지 알것 같습니다. 완전 부들부들!!\n",
      "아이들이 부드러워서 이불속에서 안나옵니다 ㅎㅎ\n",
      "- [53312735] 따뜻한 노란색이라 그런지 분위기가 화사해서 좋아요\n",
      "간절기 이불이라고 적혀 있는데 여름에 덮기엔 무리인 것 같아요 에어컨 계속 틀어두는 집 아니면 더워요 보온이 잘돼요 여름 말고 가을에 덮으세오 \n",
      "- [53308947] 나쁘진 않은데 그렇게 원단이 좋은거 같진 않아요\n",
      "- [53315265] 커텐 주문 제작 처음해봐서 집에 사이즈 잘 맞게 구매할 수 있을까 걱정 많이 했는데 상담원분이 전화주셔서 꼼꼼히 상담해주셔서 어려움 없이 구매할 수 있었어요. 구매한지 좀 되었는데 너무 잘 사용하고 있어요! 천도 좋고 나비주름이 깔끔하고 예쁘네요. 나비주름으로 추천해요!\n",
      "- [53312244] 거실에 채광도 은은하게 잘 들어오고 고급스러워서 마음에 들어요\n",
      "커텐 구매하기 전까지 고민이 많았는데 상담해서 잘 조율해주셔서 덕분에 마음에 드는 커텐 오래 잘 사용할수있을거같아요\n",
      "- [53310616] 커튼 천 자체는 너무 예쁘고 고급스럽습니다. 레일도 설치하기 편하게 돼있는데 확실히 나비주름은 천 길이가 여유있어야 더 이쁜 것 같아요. 다만 예약배송일을 말씀드리고 확인 받았음에도 불구하고 배송착오로 예정일보다 일찍 받게 되어 곤란했습니다.\n",
      "- [53309977] 좋아요 여유마니 잡으세요\n",
      "가로길이\n",
      "\n",
      "주름땨문에 짧아져요\n",
      "- [53309625] 이가격에 예쁜커튼 구매할수있어서 너무 감사합니다 \n",
      "안방도 구매했어요 \n",
      "\n",
      "다만 구매하실때 +여유길이를 충분히 하셔서 구매하세요 \n",
      "주름부분 때문에 여유가 많이 필요해요 \n",
      "조금잡으면 짧을수잇음\n",
      "- [53305215] 화이트라 확실히 집이 환해보여 너무 좋아요. 주름도 다 잡혀있어서 설치도 쉽구요. 다만 저희가 실측사이즈 미스해서 1센티가 좀 아쉽지만요. 추천합니다\n",
      "- [53304420] 초라라락 떨어지는게 제가 생각한 그대로에요. 다만 길이를 시공매트 하기 전에 주문해버려서 쪼꼼 깁니다ㅠ 이것도 참고해서 구매하세요~! 가격대비 훌륭해요!\n",
      "- [53302877] 가리개 커튼으로샀어용 봉으로 쉽게끼울수있고 많이 비치지않는 은은한 화이트색상이고 너무마음에들어요 잘사용하고있습니당 헤지면 재구매할거예요! 대만족템 \n",
      "- [53302773] 거실 커튼을 뭐로할까하다가 리뷰도 좋고 해서 샀는데 너무마음에들어요 은은하게 비치고 집이 화사해졌어요 대만족템입니당 헤지면 다음에도 재구매할거예요!\n",
      "- [53352884] 푹신푹신하고 이불이 굉장히 포근해요. 가볍고 포근해서 만족도가 큽니다. \n",
      "- [53352407] 진짜 이 차렵이불, 완전 대만족합니다! 촉감부터 남다르게 부드럽고 포근해서 하루 종일 이불 속에 파묻혀 있고 싶어진달까ㅋㅋㅋ 기대 이상의 퀄리티에요\n",
      "- [53352305] 딥그린 이불세트 색이 이뻐서 커버는 밝은 색으로 고민하다 크림샥을 샀는데 차분하니 너무 잘 어울려서 잘 사용할 것 같아요! 사계절 차렵이불이 두께도 적당하고 촉감이 좋습니다~\n",
      "- [53350801] 아들 둘 침대 블른.그린\n",
      "원단도 좋고 이불까지 간절기용\n",
      "좋아요\n",
      "- [53350605] 딸방 침대꾸미기 베리로\n",
      "핑크셋트 했어요\n",
      "부드럽고 셋트로 해놓으니\n",
      "예쁘네요\n",
      "- [53350214] 포근하게 잘 쓰고있어요!! 만족합니다\n",
      "- [53349114] 이불 포근하고 좋아요.\n",
      "분위기있게 연출할수있어오\n",
      "- [53354167] 이사가는 집에 커튼을 달아야 하는데 너무 종류가 많아서 고민하다가 화이트로 깔끔하기 하고 싶어서 구매하게 됬어요 금액대도 괜찮고 인테리어적으로도 굿!!!\n",
      "- [53353059] 분위기도 예쁘고 거실 창문 커튼으로 사용하기 좋아요. 나비 주름이라 주름의 형태도 잘 유지돼서 더 고급스러워보여요. 사이즈도 골라서 주문할 수 있어서 더 만족스럽습니다.\n",
      "- [53352036] 이 커튼은 은은한 화이트 톤으로 방 안을 밝고 깔끔하게 만들어 줍니다. 빛을 부드럽게 걸러주어 눈부심 없이 자연광을 즐길 수 있고, 주름이 잡힌 디자인 덕분에 고급스러운 느낌이 있습니다. 전체적으로 공간을 넓어 보이게 하고, 어떤 인테리어와도 조화롭게 어울리는 실용적인 제품입니다.\n",
      "- [53351933] 처음엔 예상과 다르게 너무 도톰하고 바람불면 흩날리길원랬는데 커텐밑에 추가 달려서 강바람 아니고서야 날리는건없어요 구게 오히려 더 좋은거같아요 도톰해서 저렴한티 안나고 박음질 튼튼합니다\n",
      "- [53351699] 신혼집 입주하면서 거실 커텐을 할지, 말지 고민을 많이하다가 오늘의 집에서 후기도 많고 예쁜 커텐을 발견해서 구매했습니다! 사진으로 본 것처럼 하늘하늘 정말 예쁘고, 사진을 저녁에 찍었지만 노을이 질 때 정말 예뻐요ㅋㅋㅋㅋ 제작 기간도 생각보다 오래 걸리지 않았고 주문 시 실제 높이보다 -3cm 정도해야 바닥에 끌리지 않는다고 해서 그대로 주문했는데 길이도 딱 적당하니 대~~~만족합니다!!!!\n",
      "- [53348242] 요기서 진짜 많이 샀어요.\n",
      "집 전체 커튼 요기서 다 맞췄어요.\n",
      "거실커튼으로 딱 입니다.\n",
      "암막보다는 비치지만 덜 답답하고\n",
      "세탁도 편하고 아주 만족합니다.\n",
      "- [53344043] 하늘하늘 러블리 러블리 아주 마음에 들어요. 오늘의 집에서 저렴하게 구매했어요. 사이즈도 아주 찰떡이네요. 이사한 집에 잘 어울려서 너무나도 마음에 들고 다음에도 또 이용하겠습니다\n",
      "- [53344003] 이사하면히 거실커텐으로 맞췄는데 좋아요\n",
      "빛 차단도 어느정도되고 사생활 보호도 되고\n",
      "무엇보다 예뻐요~~길이도 잘맞고 좋아요\n",
      "나비주름도 잘 잡히고 원단도 좋아요\n",
      "- [53342075] 커텐은 주름이 잡혀야 더 예쁘네요.한장만 주문헀다가 한장 더 추가해서 달아놓으니 훨씬 보기좋아요..거실에 나비주름도 아주 만족합니다.차르르하니 예뻐요.\n",
      "- [53335778] 깔끔하고 예뻐요 가격도 저렴해서 너무 만족합니당\n",
      "- [53330980] 나비주름 도톰 쉬폰커튼은 레이어 없이도 거실 분위기를 세련되게 살려줘요. 속커튼만으로도 충분히 예뻐서 겉커튼 없이 연출했는데, 내추럴하면서도 깔끔한 느낌이 정말 만족스러워요\n",
      "- [53329090] 택배로 받아 바로 열어 걸었는데 주름도 많이 안가고 좋네요~ 길이도 딱 마음에 듭니다! 햇살에 어떤 분위기일지 기대되네요. 예상한 기간보다 빨리 받아봐서 좋아요!\n",
      "- [53327863] 아주 좋아요 추가로 구매할 예정입니다.\n",
      "- [53327048] 예쁜 카텐 \n",
      "요즘 다들하는 카텐인데 진짜 예쁘네요 인테리에 진짜 잘 어울려요\n",
      "역시 화이트는 어디든 잘 어울립니다 \n",
      "고급지고 우아하고  퀄리티도 너무 좋아요 😍 \n",
      "다들 예쁘다고 하네요 \n",
      "- [53326362] 가이드라인 대로 주문 했더니 사이즈가 매우 딱 맞아요 ^^\n",
      "빛도 은은하게 들고 너무 예뻐요 \n",
      "- [53354018] 100%암막 중에 제일 밝은색 했는데 제 눈엔 좀 어두워서 살짝 아쉬워요ㅠ 형상기억 촤르륵 되는 느낌도 별로 없고 좀 따로 놀아요 그래도 잘 사용하고 있어요\n",
      "- [53350097] 커튼이 쉬폰이라 햇빛 차단이 안되면 어쩌지 걱정했는데 나름 차단이 되는 듯 해요! \n",
      "아예 차단되지는 않지만 그래도 65%-70% 정도는 되는 듯 합니다. 그리고 커튼해놓으니까 집안 분위기가 화사해지는거같아요! \n",
      "- [53349520] 방 창문이 가로길이가 240cm 정도로 많이 큰편이라 걱정했는데 2장만해도 딱 맞고 좋았어요~ 다크그레이 색상으로 하니까 빛도 잘 가려주고 덕분에 덜깨고 꿀잠 잡니다ㅎㅎ 너무 싸구려 같지않고 적당한 무게감과 재질이라 이가격에 너무 만족스럽습니다!\n",
      "- [53349198] 오트밀 색상이라 많이 칙칙해보이지도 않고 완전 암막은 아니라서 안 답답해요. 암막커튼 달고 아주 잘 자고 있습니다! 주름은 잡혀있지 않아서 알아서 잡으셔야 해요.\n",
      "- [53348345] 밤낮이 바뀌는 저랑 남편을 위해서는 확실한 암막이 필요해서 많이 검색하고 고민 끝에 구매했어요\n",
      "확실히 커텐을 쳤을때랑 아닐때 해를 가려주는게 차이가 나서 잘 사용하고 있습니다\n",
      "- [53341211] 동향집이라 한여름 해가 들어 덥기도하고 수면에 방해가 되서 암막커튼 주문했어요\n",
      "걸이까지 장착되서오니 너무좋습니다\n",
      "제품 질도 좋고 바느질도 깔끔해요\n",
      "- [53331855] 벌써 이 데코지오 업체에서 세번 째 구매입니다.\n",
      "커튼을 입맛에 맞게 쉽고 빠르고 편리하게 주문 제작 할 수 있는 것이 특장점이라고 생각합니다.\n",
      "아기들 방에 암막 짱짱합니다.\n",
      "- [53320669] 추천 기장보다 1cm 짧게 구매했어요\n",
      "방 3곳에 전부 같은 디자인에 같은 색으로 구매하려고 했는데 같은 디자인에 같은 색상끼리는 장바구니에 같이 안담기고 한개만 구매 가능하게 되있어서\n",
      "하는 수 없이 다른 색으로 구매했습니다\n",
      "가구까지 한번에 사야해서 패키지 할인받으려고 최대한 한번에 결제할려고 했던거였는데, 같은 제품은 한개 이상 장바구니에 담기지 않아서 이점은 불편하더라구요.. 커튼 재질이나 색상은 마음에 듭니다\n",
      "- [53320593] 추천 기장보다 1cm 짧게 구매했어요\n",
      "아이들이 직접 고른 색으로 구매했는데\n",
      "도톰하니 재질도 괜찮고 색도 마음에 들어요~\n",
      "생각보다 배송도 빠르게 왔어요\n",
      "- [53315552] 너무 이뻐요~~~~\n",
      "지금 또 구매예장입니다.\n",
      "- [53310580] 오자마자 설치했는데 화면이 자동 밝기가 되어 밝아보여서 그렇지 낮인데 어두컴컴합니다ㅎㅎ 오늘부턴 깊이 잘 잘수있을것 같아 벌써 행복하네요!! 예상 배송 일정보다도 더 빨리와서 좋습니다\n",
      "- [53310485] 길이가  완전 맞춤 이구오   주름이  한쪽운   예뿐데   한쪽은  잘안잡혀서  좀아쉽네요 색상도   괜찮고  두께감도  좋은거  같아요\n",
      "- [53308071] 리뷰 보고 -4cm 하니까 길이가 딱 좋아요! \n",
      "바로 걸었는데도 주름이 차르륵 예쁘네요 :) 역시 커튼은 형상기억이 최고입니다! 색상도 마음에 들어요!\n",
      "- [53306005] 안방에 암막커튼필요해서 찾아보던중 맘에드는 상품이 있어서 구매했습니다.\n",
      "처음에는 사이즈 어떻게 재야하는지 막막했는데\n",
      "문의하니 친절히 답해주셨고 설치과정도 수월합니다\n",
      "아침 7시인데도 밤처럼 깜깜해요\n",
      "- [53339502] 자취하는 딸아이에겐 딱입니다.폭신해요\n",
      "- [53339470] 호텔식 이불처럼 바삭거림과 포근함이 같이있네요.4계절 다 사용해도 될꺼 같아 기숙사여 있는 아이에겐 딱이네요\n",
      "- [53333975] 겨울에 덮을 이불 구매하고\n",
      "얇은것도 또 구매했습니다\n",
      "구김은 있지만 세탁하고 건조해도 먼지하나 없이\n",
      "아주 맘에들어요 !!\n",
      "주변에 추천하는 이불중 하나임당\n",
      "- [53331821] 폭신하고 너무 좋아요\n",
      "호텔 침구 느낌이에요\n",
      "- [53326834] 좋아요 받아보고 마음에들어서 두세트 더 구매했습니다~~ 하얀색은 관리가 어려울것 같아서 연회색 추가구매했어요~~ 파슬파슬 한 느낌이 좋고 잠이잘 오는 재질이에요\n",
      "- [53320910] 이불을 받아보고 생각보다 훨씬 만족스러웠습니다. 포장도 깔끔하게 잘 되어 있었고, 처음 꺼냈을 때부터 원단이 부드럽고 냄새도 없어서 바로 사용할 수 있었어요. 두께감도 적당해서 무겁지 않은데도 충분히 따뜻하고, 몸을 감싸주는 느낌이 좋아서 숙면하는 데 큰 도움이 됩니다. 디자인도 사진 그대로 예쁘고 고급스러워서 방 분위기가 한층 더 아늑해졌어요. 세탁 후에도 형태가 잘 유지되고 보풀도 생기지 않아 관리하기에도 편리합니다. 가격 대비 퀄리티가 정말 좋아서 가족이나 친구들에게도 추천하고 싶을 정도예요. 좋은 제품 보내주셔서 감사합니다 :)\n",
      "- [53319788] 브라운색삿는데 화이트도 추가구매했어요\n",
      "화이트가 확실히 더 이쁘네요\n",
      "호텔침대같아요 ㅎㅎ\n",
      "때가 잘 탈거같아서 고민이긴한데 조심해서 자주세탁하면서 써야겟어요 ㅎㅎ\n",
      "- [53317902] 정말 깔끔 그자체입니다. 넘 만족해요. \n"
     ]
    }
   ],
   "source": [
    "# 제외할 단독 리뷰 문구\n",
    "exclude_texts = [\"최고예요\", \"마음에 들어요\", \"보통이에요\", \"별로예요\", \"매우 아쉬워요\"]\n",
    "\n",
    "conn = dbcon()\n",
    "\n",
    "excluded_reviews = []  # 제외된 리뷰 저장\n",
    "inserted_reviews = []  # 삽입될 리뷰 저장\n",
    "\n",
    "with conn.cursor() as cur:\n",
    "    # 원본 리뷰 불러오기 \n",
    "    cur.execute(\"SELECT reviewID, comment FROM tb_reviews\")\n",
    "    result = cur.fetchall()\n",
    "\n",
    "    for row in result:\n",
    "        review_id = row[0]\n",
    "        review_text = row[1]\n",
    "\n",
    "        # 제외 문구: 정확히 일치할 때만 제외\n",
    "        if review_text in exclude_texts:\n",
    "            excluded_reviews.append((review_id, review_text))\n",
    "            continue\n",
    "        \n",
    "        inserted_reviews.append((review_id, review_text))\n",
    "\n",
    "        # cur.execute(\"INSERT INTO tb_analyzer (reviewID, comment) VALUES (%s,%s)\",(review_id, review_text))\n",
    "    # conn.commit()\n",
    "# 커밋 전 확인\n",
    "# print(\"제외된 리뷰:\")\n",
    "# for rid, rtext in excluded_reviews:\n",
    "#     print(f\"- [{rid}] {rtext}\")\n",
    "\n",
    "print(\"\\n삽입될 리뷰:\")\n",
    "for rid, rtext in inserted_reviews:\n",
    "    print(f\"- [{rid}] {rtext}\")\n"
   ]
  },
  {
   "cell_type": "markdown",
   "id": "1fb44667",
   "metadata": {},
   "source": [
    "## AI 분석"
   ]
  },
  {
   "cell_type": "code",
   "execution_count": null,
   "id": "8ce7b269",
   "metadata": {},
   "outputs": [],
   "source": [
    "# - OpenAI API를 활용해 키워드, 카테고리, 감성 분석 기능 구현.\n",
    "# - 분석 결과를 DB에 저장하는 함수 작성."
   ]
  },
  {
   "cell_type": "markdown",
   "id": "a30e8e8a",
   "metadata": {},
   "source": [
    "### 리뷰 키워드 추출"
   ]
  },
  {
   "cell_type": "code",
   "execution_count": 26,
   "id": "c551dee6",
   "metadata": {},
   "outputs": [
    {
     "data": {
      "text/plain": [
       "True"
      ]
     },
     "execution_count": 26,
     "metadata": {},
     "output_type": "execute_result"
    }
   ],
   "source": [
    "from dotenv import load_dotenv\n",
    "from langchain_text_splitters import RecursiveCharacterTextSplitter\n",
    "from langchain_community.document_loaders import TextLoader\n",
    "from langchain_openai.embeddings import OpenAIEmbeddings\n",
    "from langchain_chroma import Chroma\n",
    "from langchain_openai import ChatOpenAI\n",
    "from langchain_core.runnables import RunnableLambda\n",
    "from langchain_community.utilities import GoogleSerperAPIWrapper\n",
    "from langchain_core.prompts import ChatPromptTemplate, PromptTemplate\n",
    "from langchain_core.output_parsers import StrOutputParser, JsonOutputParser\n",
    "from langchain_core.runnables import RunnablePassthrough\n",
    "import time\n",
    "\n",
    "load_dotenv()"
   ]
  },
  {
   "cell_type": "code",
   "execution_count": 39,
   "id": "243eb132",
   "metadata": {},
   "outputs": [
    {
     "name": "stdout",
     "output_type": "stream",
     "text": [
      "1번째 실행 중...\n"
     ]
    },
    {
     "name": "stderr",
     "output_type": "stream",
     "text": [
      "Failed to send compressed multipart ingest: langsmith.utils.LangSmithRateLimitError: Rate limit exceeded for https://api.smith.langchain.com/runs/multipart. HTTPError('429 Client Error: Too Many Requests for url: https://api.smith.langchain.com/runs/multipart', '{\"error\":\"Too many requests: tenant exceeded usage limits: Monthly unique traces usage limit exceeded\"}\\n')trace=7707b329-481a-43ed-8d39-b7a5f327f3f8,id=7707b329-481a-43ed-8d39-b7a5f327f3f8; trace=b3ab56db-318e-4a5f-987d-bf3659840553,id=b3ab56db-318e-4a5f-987d-bf3659840553; trace=d22d32e8-572a-40c8-b7f1-5837dd14e3ab,id=d22d32e8-572a-40c8-b7f1-5837dd14e3ab; trace=8a67665b-5bdf-46d0-ad9b-d7800f82537c,id=8a67665b-5bdf-46d0-ad9b-d7800f82537c; trace=68468659-a8f8-4c56-896b-3fe53e19632e,id=68468659-a8f8-4c56-896b-3fe53e19632e; trace=358262d9-c9ea-4ebc-a8ab-40e444ae1c6b,id=358262d9-c9ea-4ebc-a8ab-40e444ae1c6b; trace=f21008f6-f258-442e-bdd4-14e41c7e27a8,id=f21008f6-f258-442e-bdd4-14e41c7e27a8; trace=8aa34a47-3311-41d6-969f-a40d8830d9ae,id=8aa34a47-3311-41d6-969f-a40d8830d9ae; trace=4e1ec6ed-5494-4e03-80ea-396d8a0fd1c1,id=4e1ec6ed-5494-4e03-80ea-396d8a0fd1c1; trace=2fbf8719-5fa0-406e-b705-170da1d28b54,id=2fbf8719-5fa0-406e-b705-170da1d28b54; trace=7707b329-481a-43ed-8d39-b7a5f327f3f8,id=013baa61-5902-456a-81c6-fd222413a8c0; trace=b3ab56db-318e-4a5f-987d-bf3659840553,id=951e8981-cf3c-4048-ab84-e31b9673ce47; trace=7707b329-481a-43ed-8d39-b7a5f327f3f8,id=013baa61-5902-456a-81c6-fd222413a8c0; trace=b3ab56db-318e-4a5f-987d-bf3659840553,id=951e8981-cf3c-4048-ab84-e31b9673ce47; trace=d22d32e8-572a-40c8-b7f1-5837dd14e3ab,id=3e09a3d9-6f32-4c13-8e05-b69617d6c52e; trace=8a67665b-5bdf-46d0-ad9b-d7800f82537c,id=f14ea7e2-6277-4c18-a76a-356d0675ae82; trace=68468659-a8f8-4c56-896b-3fe53e19632e,id=de0c0fb4-eafa-4de4-bb03-0655fb9fd02a; trace=358262d9-c9ea-4ebc-a8ab-40e444ae1c6b,id=74e7cd9f-24ec-4b2d-a09c-38bdc0632c0a; trace=f21008f6-f258-442e-bdd4-14e41c7e27a8,id=60e4cd53-7576-4856-9fd7-668b38692fec; trace=8a67665b-5bdf-46d0-ad9b-d7800f82537c,id=f14ea7e2-6277-4c18-a76a-356d0675ae82; trace=8aa34a47-3311-41d6-969f-a40d8830d9ae,id=fa49b63a-1d0c-4b88-8c7f-d3629cf101e9; trace=68468659-a8f8-4c56-896b-3fe53e19632e,id=de0c0fb4-eafa-4de4-bb03-0655fb9fd02a; trace=358262d9-c9ea-4ebc-a8ab-40e444ae1c6b,id=74e7cd9f-24ec-4b2d-a09c-38bdc0632c0a; trace=d22d32e8-572a-40c8-b7f1-5837dd14e3ab,id=3e09a3d9-6f32-4c13-8e05-b69617d6c52e; trace=f21008f6-f258-442e-bdd4-14e41c7e27a8,id=60e4cd53-7576-4856-9fd7-668b38692fec; trace=4e1ec6ed-5494-4e03-80ea-396d8a0fd1c1,id=d0d25fa3-8b7c-46c6-b014-8822ee0cc210; trace=8aa34a47-3311-41d6-969f-a40d8830d9ae,id=fa49b63a-1d0c-4b88-8c7f-d3629cf101e9; trace=4e1ec6ed-5494-4e03-80ea-396d8a0fd1c1,id=d0d25fa3-8b7c-46c6-b014-8822ee0cc210; trace=2fbf8719-5fa0-406e-b705-170da1d28b54,id=16eab040-edfd-453c-953b-b5eeb35b03a7; trace=2fbf8719-5fa0-406e-b705-170da1d28b54,id=16eab040-edfd-453c-953b-b5eeb35b03a7; trace=7707b329-481a-43ed-8d39-b7a5f327f3f8,id=0f38d173-82b1-4622-b452-b63c60914ada; trace=b3ab56db-318e-4a5f-987d-bf3659840553,id=7afc961c-955a-4d5c-901c-ccdf2d9e6703; trace=d22d32e8-572a-40c8-b7f1-5837dd14e3ab,id=4106d9d8-879d-4c3c-b7b0-969469a46038; trace=8a67665b-5bdf-46d0-ad9b-d7800f82537c,id=7e5f3996-49db-4818-90cc-5169aac76c6f; trace=68468659-a8f8-4c56-896b-3fe53e19632e,id=9df35cb7-532c-4027-9bf3-2d22ef245712; trace=358262d9-c9ea-4ebc-a8ab-40e444ae1c6b,id=29c7bc39-3e62-4e96-9957-8e4f92d9dd29; trace=f21008f6-f258-442e-bdd4-14e41c7e27a8,id=ee958fd0-f089-4b43-bdbf-d17de96a2c5d; trace=8aa34a47-3311-41d6-969f-a40d8830d9ae,id=51ded663-2c5b-404a-9389-75fc730ab10c; trace=4e1ec6ed-5494-4e03-80ea-396d8a0fd1c1,id=5eb969be-7a0b-4bef-bdde-387cb96122fc; trace=2fbf8719-5fa0-406e-b705-170da1d28b54,id=8ccb373a-fe05-44a8-b875-4aaf64dac924\n",
      "Failed to send compressed multipart ingest: langsmith.utils.LangSmithRateLimitError: Rate limit exceeded for https://api.smith.langchain.com/runs/multipart. HTTPError('429 Client Error: Too Many Requests for url: https://api.smith.langchain.com/runs/multipart', '{\"error\":\"Too many requests: tenant exceeded usage limits: Monthly unique traces usage limit exceeded\"}\\n')trace=68468659-a8f8-4c56-896b-3fe53e19632e,id=9df35cb7-532c-4027-9bf3-2d22ef245712; trace=b3ab56db-318e-4a5f-987d-bf3659840553,id=7afc961c-955a-4d5c-901c-ccdf2d9e6703; trace=2fbf8719-5fa0-406e-b705-170da1d28b54,id=8ccb373a-fe05-44a8-b875-4aaf64dac924; trace=4e1ec6ed-5494-4e03-80ea-396d8a0fd1c1,id=5eb969be-7a0b-4bef-bdde-387cb96122fc; trace=f21008f6-f258-442e-bdd4-14e41c7e27a8,id=ee958fd0-f089-4b43-bdbf-d17de96a2c5d; trace=8a67665b-5bdf-46d0-ad9b-d7800f82537c,id=7e5f3996-49db-4818-90cc-5169aac76c6f; trace=7707b329-481a-43ed-8d39-b7a5f327f3f8,id=0f38d173-82b1-4622-b452-b63c60914ada; trace=d22d32e8-572a-40c8-b7f1-5837dd14e3ab,id=4106d9d8-879d-4c3c-b7b0-969469a46038; trace=8aa34a47-3311-41d6-969f-a40d8830d9ae,id=51ded663-2c5b-404a-9389-75fc730ab10c; trace=358262d9-c9ea-4ebc-a8ab-40e444ae1c6b,id=29c7bc39-3e62-4e96-9957-8e4f92d9dd29; trace=7707b329-481a-43ed-8d39-b7a5f327f3f8,id=78395526-8c1b-4311-8581-8fe80c99ef05; trace=7707b329-481a-43ed-8d39-b7a5f327f3f8,id=78395526-8c1b-4311-8581-8fe80c99ef05; trace=b3ab56db-318e-4a5f-987d-bf3659840553,id=a535c157-4601-4f3e-866a-a5693a08e1a9; trace=d22d32e8-572a-40c8-b7f1-5837dd14e3ab,id=55d16803-3891-48f6-a5eb-772b979d69b1; trace=b3ab56db-318e-4a5f-987d-bf3659840553,id=a535c157-4601-4f3e-866a-a5693a08e1a9; trace=d22d32e8-572a-40c8-b7f1-5837dd14e3ab,id=55d16803-3891-48f6-a5eb-772b979d69b1; trace=68468659-a8f8-4c56-896b-3fe53e19632e,id=402bfecf-0729-4132-8ba9-eebc7bb9a546; trace=8a67665b-5bdf-46d0-ad9b-d7800f82537c,id=208f4b92-4672-4821-a691-dc11eda97f0a; trace=358262d9-c9ea-4ebc-a8ab-40e444ae1c6b,id=5c7beb1b-fdaa-4af0-a58a-01f3e8657587; trace=f21008f6-f258-442e-bdd4-14e41c7e27a8,id=6793ee44-19d2-4b91-8197-db48693a2474; trace=8a67665b-5bdf-46d0-ad9b-d7800f82537c,id=208f4b92-4672-4821-a691-dc11eda97f0a; trace=358262d9-c9ea-4ebc-a8ab-40e444ae1c6b,id=5c7beb1b-fdaa-4af0-a58a-01f3e8657587; trace=8aa34a47-3311-41d6-969f-a40d8830d9ae,id=5e46a559-f67c-40dc-b010-836df921a2d8; trace=68468659-a8f8-4c56-896b-3fe53e19632e,id=402bfecf-0729-4132-8ba9-eebc7bb9a546; trace=f21008f6-f258-442e-bdd4-14e41c7e27a8,id=6793ee44-19d2-4b91-8197-db48693a2474; trace=4e1ec6ed-5494-4e03-80ea-396d8a0fd1c1,id=48f667f8-e075-4fad-a1ea-bf3d3e48f565; trace=2fbf8719-5fa0-406e-b705-170da1d28b54,id=a26d8880-107d-45e4-a184-b81bccf038e6; trace=8aa34a47-3311-41d6-969f-a40d8830d9ae,id=5e46a559-f67c-40dc-b010-836df921a2d8; trace=2fbf8719-5fa0-406e-b705-170da1d28b54,id=a26d8880-107d-45e4-a184-b81bccf038e6; trace=4e1ec6ed-5494-4e03-80ea-396d8a0fd1c1,id=48f667f8-e075-4fad-a1ea-bf3d3e48f565; trace=7707b329-481a-43ed-8d39-b7a5f327f3f8,id=7707b329-481a-43ed-8d39-b7a5f327f3f8; trace=b3ab56db-318e-4a5f-987d-bf3659840553,id=b3ab56db-318e-4a5f-987d-bf3659840553; trace=d22d32e8-572a-40c8-b7f1-5837dd14e3ab,id=d22d32e8-572a-40c8-b7f1-5837dd14e3ab; trace=8a67665b-5bdf-46d0-ad9b-d7800f82537c,id=8a67665b-5bdf-46d0-ad9b-d7800f82537c; trace=68468659-a8f8-4c56-896b-3fe53e19632e,id=68468659-a8f8-4c56-896b-3fe53e19632e; trace=358262d9-c9ea-4ebc-a8ab-40e444ae1c6b,id=358262d9-c9ea-4ebc-a8ab-40e444ae1c6b; trace=f21008f6-f258-442e-bdd4-14e41c7e27a8,id=f21008f6-f258-442e-bdd4-14e41c7e27a8; trace=8aa34a47-3311-41d6-969f-a40d8830d9ae,id=8aa34a47-3311-41d6-969f-a40d8830d9ae; trace=4e1ec6ed-5494-4e03-80ea-396d8a0fd1c1,id=4e1ec6ed-5494-4e03-80ea-396d8a0fd1c1; trace=2fbf8719-5fa0-406e-b705-170da1d28b54,id=2fbf8719-5fa0-406e-b705-170da1d28b54\n"
     ]
    },
    {
     "name": "stdout",
     "output_type": "stream",
     "text": [
      "2번째 실행 중...\n"
     ]
    },
    {
     "name": "stderr",
     "output_type": "stream",
     "text": [
      "Failed to send compressed multipart ingest: langsmith.utils.LangSmithRateLimitError: Rate limit exceeded for https://api.smith.langchain.com/runs/multipart. HTTPError('429 Client Error: Too Many Requests for url: https://api.smith.langchain.com/runs/multipart', '{\"error\":\"Too many requests: tenant exceeded usage limits: Monthly unique traces usage limit exceeded\"}\\n')trace=ffc50b00-d299-4b76-8c57-3ba221b71802,id=ffc50b00-d299-4b76-8c57-3ba221b71802; trace=d2b131ce-a709-4547-93e1-d45b696a0e68,id=d2b131ce-a709-4547-93e1-d45b696a0e68; trace=bdc24f38-7375-4930-962a-875a222ca3f2,id=bdc24f38-7375-4930-962a-875a222ca3f2; trace=406e3253-fcb1-4ef9-9655-e082db403596,id=406e3253-fcb1-4ef9-9655-e082db403596; trace=b00532cc-cffc-473d-8bbf-be01acbf86df,id=b00532cc-cffc-473d-8bbf-be01acbf86df; trace=d1483d7d-41e9-4d38-8232-cb8d505c3f10,id=d1483d7d-41e9-4d38-8232-cb8d505c3f10; trace=9961c227-e74c-407d-b562-810615ca36b9,id=9961c227-e74c-407d-b562-810615ca36b9; trace=75a9be4f-8542-4fa6-bac6-feafe687a9d9,id=75a9be4f-8542-4fa6-bac6-feafe687a9d9; trace=ebcb5646-8908-4dff-a9ae-aaf922cb04c2,id=ebcb5646-8908-4dff-a9ae-aaf922cb04c2; trace=43a53ad3-f9ae-4253-9de4-0f5461f7d925,id=43a53ad3-f9ae-4253-9de4-0f5461f7d925; trace=ffc50b00-d299-4b76-8c57-3ba221b71802,id=8e3a9b52-7cfc-4c1b-ac2c-8a2ca8045ce4; trace=ffc50b00-d299-4b76-8c57-3ba221b71802,id=8e3a9b52-7cfc-4c1b-ac2c-8a2ca8045ce4; trace=d2b131ce-a709-4547-93e1-d45b696a0e68,id=ba4b4869-01dc-4255-a85a-05ba28798136; trace=d2b131ce-a709-4547-93e1-d45b696a0e68,id=ba4b4869-01dc-4255-a85a-05ba28798136; trace=bdc24f38-7375-4930-962a-875a222ca3f2,id=7fb17179-26d9-4b6f-bf87-4874a8cb53f0; trace=bdc24f38-7375-4930-962a-875a222ca3f2,id=7fb17179-26d9-4b6f-bf87-4874a8cb53f0; trace=406e3253-fcb1-4ef9-9655-e082db403596,id=130abaf6-c409-4b55-8575-4abe143fc808; trace=406e3253-fcb1-4ef9-9655-e082db403596,id=130abaf6-c409-4b55-8575-4abe143fc808; trace=b00532cc-cffc-473d-8bbf-be01acbf86df,id=c823fce8-017e-40e1-84ab-76d4cd5baa67; trace=b00532cc-cffc-473d-8bbf-be01acbf86df,id=c823fce8-017e-40e1-84ab-76d4cd5baa67; trace=d1483d7d-41e9-4d38-8232-cb8d505c3f10,id=0b4cd1fb-9ddd-4d22-9411-d15891882204; trace=d1483d7d-41e9-4d38-8232-cb8d505c3f10,id=0b4cd1fb-9ddd-4d22-9411-d15891882204; trace=9961c227-e74c-407d-b562-810615ca36b9,id=92f853d0-0a35-4430-a890-f46a6c118827; trace=75a9be4f-8542-4fa6-bac6-feafe687a9d9,id=7332d87a-0263-47d7-8cb4-aec819c675d6; trace=ebcb5646-8908-4dff-a9ae-aaf922cb04c2,id=d4abe2b9-4aad-4543-b083-e0de83999b43; trace=43a53ad3-f9ae-4253-9de4-0f5461f7d925,id=00a21ecf-d873-41fa-a6a4-7de500afaaa3; trace=9961c227-e74c-407d-b562-810615ca36b9,id=92f853d0-0a35-4430-a890-f46a6c118827; trace=75a9be4f-8542-4fa6-bac6-feafe687a9d9,id=7332d87a-0263-47d7-8cb4-aec819c675d6; trace=43a53ad3-f9ae-4253-9de4-0f5461f7d925,id=00a21ecf-d873-41fa-a6a4-7de500afaaa3; trace=ebcb5646-8908-4dff-a9ae-aaf922cb04c2,id=d4abe2b9-4aad-4543-b083-e0de83999b43; trace=ffc50b00-d299-4b76-8c57-3ba221b71802,id=0524eb95-21c0-4637-88d2-4cf94c2ca12d; trace=d2b131ce-a709-4547-93e1-d45b696a0e68,id=efca97ff-7f9a-4873-b7af-a40fd20450b2; trace=bdc24f38-7375-4930-962a-875a222ca3f2,id=d51fef2a-6d81-4c5f-a026-a0c7b8b7ff6a; trace=406e3253-fcb1-4ef9-9655-e082db403596,id=077f08ef-4389-4778-8a4b-2056c3108d4d; trace=b00532cc-cffc-473d-8bbf-be01acbf86df,id=a026b322-2608-4e07-b51c-0921d2ce7d95; trace=d1483d7d-41e9-4d38-8232-cb8d505c3f10,id=64def5bf-58c5-4357-8bbf-7570579e7f86; trace=9961c227-e74c-407d-b562-810615ca36b9,id=1d19e8a5-0ad8-425b-87a4-82b53d76e4b7; trace=75a9be4f-8542-4fa6-bac6-feafe687a9d9,id=dd071104-bf4f-4d87-b01f-4ddd83be510b; trace=ebcb5646-8908-4dff-a9ae-aaf922cb04c2,id=b648886a-9888-4ff0-b505-61b3f8f73de4; trace=43a53ad3-f9ae-4253-9de4-0f5461f7d925,id=7627fd85-b567-4d92-84f1-824ca3b79033\n",
      "Failed to send compressed multipart ingest: langsmith.utils.LangSmithRateLimitError: Rate limit exceeded for https://api.smith.langchain.com/runs/multipart. HTTPError('429 Client Error: Too Many Requests for url: https://api.smith.langchain.com/runs/multipart', '{\"error\":\"Too many requests: tenant exceeded usage limits: Monthly unique traces usage limit exceeded\"}\\n')trace=75a9be4f-8542-4fa6-bac6-feafe687a9d9,id=dd071104-bf4f-4d87-b01f-4ddd83be510b; trace=406e3253-fcb1-4ef9-9655-e082db403596,id=077f08ef-4389-4778-8a4b-2056c3108d4d; trace=d1483d7d-41e9-4d38-8232-cb8d505c3f10,id=64def5bf-58c5-4357-8bbf-7570579e7f86; trace=43a53ad3-f9ae-4253-9de4-0f5461f7d925,id=7627fd85-b567-4d92-84f1-824ca3b79033; trace=b00532cc-cffc-473d-8bbf-be01acbf86df,id=a026b322-2608-4e07-b51c-0921d2ce7d95; trace=bdc24f38-7375-4930-962a-875a222ca3f2,id=d51fef2a-6d81-4c5f-a026-a0c7b8b7ff6a; trace=ffc50b00-d299-4b76-8c57-3ba221b71802,id=0524eb95-21c0-4637-88d2-4cf94c2ca12d; trace=d2b131ce-a709-4547-93e1-d45b696a0e68,id=efca97ff-7f9a-4873-b7af-a40fd20450b2; trace=9961c227-e74c-407d-b562-810615ca36b9,id=1d19e8a5-0ad8-425b-87a4-82b53d76e4b7; trace=ebcb5646-8908-4dff-a9ae-aaf922cb04c2,id=b648886a-9888-4ff0-b505-61b3f8f73de4; trace=ffc50b00-d299-4b76-8c57-3ba221b71802,id=16c3e679-9bca-4bd7-9b95-4ec6f2f40ca3; trace=ffc50b00-d299-4b76-8c57-3ba221b71802,id=16c3e679-9bca-4bd7-9b95-4ec6f2f40ca3; trace=d2b131ce-a709-4547-93e1-d45b696a0e68,id=6625e4b5-1d20-46cf-a8f3-d84868cc39c9; trace=d2b131ce-a709-4547-93e1-d45b696a0e68,id=6625e4b5-1d20-46cf-a8f3-d84868cc39c9; trace=bdc24f38-7375-4930-962a-875a222ca3f2,id=019b6ec4-3e3b-4ab7-be1f-2cd44a741628; trace=bdc24f38-7375-4930-962a-875a222ca3f2,id=019b6ec4-3e3b-4ab7-be1f-2cd44a741628; trace=406e3253-fcb1-4ef9-9655-e082db403596,id=723cb29a-e5d3-46f8-9995-42add1e31733; trace=406e3253-fcb1-4ef9-9655-e082db403596,id=723cb29a-e5d3-46f8-9995-42add1e31733; trace=b00532cc-cffc-473d-8bbf-be01acbf86df,id=6ac7e9ea-b27a-4424-9c48-dc4faa59ea01; trace=b00532cc-cffc-473d-8bbf-be01acbf86df,id=6ac7e9ea-b27a-4424-9c48-dc4faa59ea01; trace=d1483d7d-41e9-4d38-8232-cb8d505c3f10,id=a97dd5c7-a37a-4be8-a712-206514b0dc31; trace=d1483d7d-41e9-4d38-8232-cb8d505c3f10,id=a97dd5c7-a37a-4be8-a712-206514b0dc31; trace=9961c227-e74c-407d-b562-810615ca36b9,id=744e7f39-150d-4d04-a181-4f715c987db5; trace=75a9be4f-8542-4fa6-bac6-feafe687a9d9,id=48526c00-9e00-45f1-97c1-e83438120a57; trace=ebcb5646-8908-4dff-a9ae-aaf922cb04c2,id=d3cebd9d-8928-4696-8158-a761cff7af66; trace=43a53ad3-f9ae-4253-9de4-0f5461f7d925,id=9d81b153-2396-4750-a135-6844f79373d6; trace=9961c227-e74c-407d-b562-810615ca36b9,id=744e7f39-150d-4d04-a181-4f715c987db5; trace=75a9be4f-8542-4fa6-bac6-feafe687a9d9,id=48526c00-9e00-45f1-97c1-e83438120a57; trace=ebcb5646-8908-4dff-a9ae-aaf922cb04c2,id=d3cebd9d-8928-4696-8158-a761cff7af66; trace=43a53ad3-f9ae-4253-9de4-0f5461f7d925,id=9d81b153-2396-4750-a135-6844f79373d6; trace=ffc50b00-d299-4b76-8c57-3ba221b71802,id=ffc50b00-d299-4b76-8c57-3ba221b71802; trace=d2b131ce-a709-4547-93e1-d45b696a0e68,id=d2b131ce-a709-4547-93e1-d45b696a0e68; trace=bdc24f38-7375-4930-962a-875a222ca3f2,id=bdc24f38-7375-4930-962a-875a222ca3f2; trace=406e3253-fcb1-4ef9-9655-e082db403596,id=406e3253-fcb1-4ef9-9655-e082db403596; trace=b00532cc-cffc-473d-8bbf-be01acbf86df,id=b00532cc-cffc-473d-8bbf-be01acbf86df; trace=d1483d7d-41e9-4d38-8232-cb8d505c3f10,id=d1483d7d-41e9-4d38-8232-cb8d505c3f10; trace=9961c227-e74c-407d-b562-810615ca36b9,id=9961c227-e74c-407d-b562-810615ca36b9; trace=75a9be4f-8542-4fa6-bac6-feafe687a9d9,id=75a9be4f-8542-4fa6-bac6-feafe687a9d9; trace=ebcb5646-8908-4dff-a9ae-aaf922cb04c2,id=ebcb5646-8908-4dff-a9ae-aaf922cb04c2; trace=43a53ad3-f9ae-4253-9de4-0f5461f7d925,id=43a53ad3-f9ae-4253-9de4-0f5461f7d925\n"
     ]
    },
    {
     "name": "stdout",
     "output_type": "stream",
     "text": [
      "3번째 실행 중...\n"
     ]
    },
    {
     "name": "stderr",
     "output_type": "stream",
     "text": [
      "Failed to send compressed multipart ingest: langsmith.utils.LangSmithRateLimitError: Rate limit exceeded for https://api.smith.langchain.com/runs/multipart. HTTPError('429 Client Error: Too Many Requests for url: https://api.smith.langchain.com/runs/multipart', '{\"error\":\"Too many requests: tenant exceeded usage limits: Monthly unique traces usage limit exceeded\"}\\n')trace=05217f66-1bc9-4792-a5ad-12ce28849e48,id=05217f66-1bc9-4792-a5ad-12ce28849e48; trace=3a22fb35-82d0-486b-b141-d51e1a4233cb,id=3a22fb35-82d0-486b-b141-d51e1a4233cb; trace=5efed17a-5d6a-4ec9-a4c0-2338270d47a6,id=5efed17a-5d6a-4ec9-a4c0-2338270d47a6; trace=576a0997-84c4-4215-9b2b-92026044e2ad,id=576a0997-84c4-4215-9b2b-92026044e2ad; trace=06cf5033-6d46-4eb4-817a-b69888605b1f,id=06cf5033-6d46-4eb4-817a-b69888605b1f; trace=28a296dd-ef9f-437f-9af4-2a865b4d3657,id=28a296dd-ef9f-437f-9af4-2a865b4d3657; trace=c2f1ba9b-e8f2-46aa-bfaa-3eb22937fd5b,id=c2f1ba9b-e8f2-46aa-bfaa-3eb22937fd5b; trace=f955422e-0e39-4748-a504-17a10f73d1e9,id=f955422e-0e39-4748-a504-17a10f73d1e9; trace=5c619fa2-adde-4902-a19a-5b861890d6f8,id=5c619fa2-adde-4902-a19a-5b861890d6f8; trace=8d8fb592-c621-4320-89af-5accb887f38c,id=8d8fb592-c621-4320-89af-5accb887f38c; trace=05217f66-1bc9-4792-a5ad-12ce28849e48,id=639fc1f4-5eb3-4c17-9729-c7d676ce555b; trace=05217f66-1bc9-4792-a5ad-12ce28849e48,id=639fc1f4-5eb3-4c17-9729-c7d676ce555b; trace=3a22fb35-82d0-486b-b141-d51e1a4233cb,id=3cbefe1b-acca-4c57-9686-9dc03b80552b; trace=3a22fb35-82d0-486b-b141-d51e1a4233cb,id=3cbefe1b-acca-4c57-9686-9dc03b80552b; trace=5efed17a-5d6a-4ec9-a4c0-2338270d47a6,id=0c2ea4b5-0bd1-4579-a096-fa428cfc4eb0; trace=5efed17a-5d6a-4ec9-a4c0-2338270d47a6,id=0c2ea4b5-0bd1-4579-a096-fa428cfc4eb0; trace=06cf5033-6d46-4eb4-817a-b69888605b1f,id=d68507e9-a6e1-431a-907a-77165031a698; trace=576a0997-84c4-4215-9b2b-92026044e2ad,id=7b3bab2e-da0c-4d7e-9c6d-074d8f62ef92; trace=28a296dd-ef9f-437f-9af4-2a865b4d3657,id=6775cfe4-fe4f-441a-a590-4640d93d2a04; trace=06cf5033-6d46-4eb4-817a-b69888605b1f,id=d68507e9-a6e1-431a-907a-77165031a698; trace=c2f1ba9b-e8f2-46aa-bfaa-3eb22937fd5b,id=34e2958d-c11b-468c-b478-b2d3bb84e2e5; trace=28a296dd-ef9f-437f-9af4-2a865b4d3657,id=6775cfe4-fe4f-441a-a590-4640d93d2a04; trace=576a0997-84c4-4215-9b2b-92026044e2ad,id=7b3bab2e-da0c-4d7e-9c6d-074d8f62ef92; trace=f955422e-0e39-4748-a504-17a10f73d1e9,id=bce93ac6-e43f-4a7a-ad6a-c0f733512e0d; trace=5c619fa2-adde-4902-a19a-5b861890d6f8,id=e307ca8e-21e3-4a36-b7a0-a5152052dd2d; trace=8d8fb592-c621-4320-89af-5accb887f38c,id=c846411a-4b8e-4bd1-b0f7-2d365c9161b7; trace=c2f1ba9b-e8f2-46aa-bfaa-3eb22937fd5b,id=34e2958d-c11b-468c-b478-b2d3bb84e2e5; trace=f955422e-0e39-4748-a504-17a10f73d1e9,id=bce93ac6-e43f-4a7a-ad6a-c0f733512e0d; trace=5c619fa2-adde-4902-a19a-5b861890d6f8,id=e307ca8e-21e3-4a36-b7a0-a5152052dd2d; trace=8d8fb592-c621-4320-89af-5accb887f38c,id=c846411a-4b8e-4bd1-b0f7-2d365c9161b7; trace=05217f66-1bc9-4792-a5ad-12ce28849e48,id=b1aa0474-875d-47a3-8ea2-6930915e6349; trace=3a22fb35-82d0-486b-b141-d51e1a4233cb,id=b8fd0a94-d321-4756-992b-0a873090ecc1; trace=5efed17a-5d6a-4ec9-a4c0-2338270d47a6,id=39e4b877-96b8-402e-a239-de80985272af; trace=576a0997-84c4-4215-9b2b-92026044e2ad,id=8a55089d-77db-4029-949c-582d1c8c4c4d; trace=06cf5033-6d46-4eb4-817a-b69888605b1f,id=383af099-1076-4521-81f3-8c6a900eead5; trace=28a296dd-ef9f-437f-9af4-2a865b4d3657,id=95a89f98-3924-425b-8c01-69835a7935bd; trace=c2f1ba9b-e8f2-46aa-bfaa-3eb22937fd5b,id=cf8485e8-4294-49c8-b7f1-4ff3e774d01a; trace=f955422e-0e39-4748-a504-17a10f73d1e9,id=e7d86ded-8fba-4e8e-b706-92eaec71320e; trace=5c619fa2-adde-4902-a19a-5b861890d6f8,id=410e196c-cd40-488d-adc2-838d5e599478; trace=8d8fb592-c621-4320-89af-5accb887f38c,id=a406ff0c-f3bd-47f8-8188-055807ab3a77\n",
      "Failed to send compressed multipart ingest: langsmith.utils.LangSmithRateLimitError: Rate limit exceeded for https://api.smith.langchain.com/runs/multipart. HTTPError('429 Client Error: Too Many Requests for url: https://api.smith.langchain.com/runs/multipart', '{\"error\":\"Too many requests: tenant exceeded usage limits: Monthly unique traces usage limit exceeded\"}\\n')trace=5c619fa2-adde-4902-a19a-5b861890d6f8,id=410e196c-cd40-488d-adc2-838d5e599478; trace=05217f66-1bc9-4792-a5ad-12ce28849e48,id=b1aa0474-875d-47a3-8ea2-6930915e6349; trace=8d8fb592-c621-4320-89af-5accb887f38c,id=a406ff0c-f3bd-47f8-8188-055807ab3a77; trace=f955422e-0e39-4748-a504-17a10f73d1e9,id=e7d86ded-8fba-4e8e-b706-92eaec71320e; trace=5efed17a-5d6a-4ec9-a4c0-2338270d47a6,id=39e4b877-96b8-402e-a239-de80985272af; trace=3a22fb35-82d0-486b-b141-d51e1a4233cb,id=b8fd0a94-d321-4756-992b-0a873090ecc1; trace=06cf5033-6d46-4eb4-817a-b69888605b1f,id=383af099-1076-4521-81f3-8c6a900eead5; trace=28a296dd-ef9f-437f-9af4-2a865b4d3657,id=95a89f98-3924-425b-8c01-69835a7935bd; trace=576a0997-84c4-4215-9b2b-92026044e2ad,id=8a55089d-77db-4029-949c-582d1c8c4c4d; trace=c2f1ba9b-e8f2-46aa-bfaa-3eb22937fd5b,id=cf8485e8-4294-49c8-b7f1-4ff3e774d01a; trace=05217f66-1bc9-4792-a5ad-12ce28849e48,id=bf6856b0-1dc1-4a93-b389-d87f4753962e; trace=05217f66-1bc9-4792-a5ad-12ce28849e48,id=bf6856b0-1dc1-4a93-b389-d87f4753962e; trace=3a22fb35-82d0-486b-b141-d51e1a4233cb,id=a3cefedb-e0f4-46f5-9ca6-a25678f359dc; trace=3a22fb35-82d0-486b-b141-d51e1a4233cb,id=a3cefedb-e0f4-46f5-9ca6-a25678f359dc; trace=5efed17a-5d6a-4ec9-a4c0-2338270d47a6,id=0a179d13-46c1-4801-b0f1-aa59767fc3ea; trace=5efed17a-5d6a-4ec9-a4c0-2338270d47a6,id=0a179d13-46c1-4801-b0f1-aa59767fc3ea; trace=06cf5033-6d46-4eb4-817a-b69888605b1f,id=1ef5e2c0-8e10-4805-be90-72315fb21990; trace=576a0997-84c4-4215-9b2b-92026044e2ad,id=069ee9bb-f912-462a-a82f-446aaa7d9190; trace=28a296dd-ef9f-437f-9af4-2a865b4d3657,id=6a2f7edd-bb8b-415f-9227-cf923eb2be9b; trace=06cf5033-6d46-4eb4-817a-b69888605b1f,id=1ef5e2c0-8e10-4805-be90-72315fb21990; trace=576a0997-84c4-4215-9b2b-92026044e2ad,id=069ee9bb-f912-462a-a82f-446aaa7d9190; trace=c2f1ba9b-e8f2-46aa-bfaa-3eb22937fd5b,id=b0eb8acf-6356-4075-aeb4-a6603c953eef; trace=28a296dd-ef9f-437f-9af4-2a865b4d3657,id=6a2f7edd-bb8b-415f-9227-cf923eb2be9b; trace=f955422e-0e39-4748-a504-17a10f73d1e9,id=d70daf3e-4283-45b8-b033-b89944aadeef; trace=5c619fa2-adde-4902-a19a-5b861890d6f8,id=0fc1df79-5214-47ce-b411-b6942a3b5b5f; trace=8d8fb592-c621-4320-89af-5accb887f38c,id=a7f12c6f-00c8-4d27-84b0-17a001f0a815; trace=c2f1ba9b-e8f2-46aa-bfaa-3eb22937fd5b,id=b0eb8acf-6356-4075-aeb4-a6603c953eef; trace=f955422e-0e39-4748-a504-17a10f73d1e9,id=d70daf3e-4283-45b8-b033-b89944aadeef; trace=5c619fa2-adde-4902-a19a-5b861890d6f8,id=0fc1df79-5214-47ce-b411-b6942a3b5b5f; trace=8d8fb592-c621-4320-89af-5accb887f38c,id=a7f12c6f-00c8-4d27-84b0-17a001f0a815; trace=05217f66-1bc9-4792-a5ad-12ce28849e48,id=05217f66-1bc9-4792-a5ad-12ce28849e48; trace=3a22fb35-82d0-486b-b141-d51e1a4233cb,id=3a22fb35-82d0-486b-b141-d51e1a4233cb; trace=5efed17a-5d6a-4ec9-a4c0-2338270d47a6,id=5efed17a-5d6a-4ec9-a4c0-2338270d47a6; trace=576a0997-84c4-4215-9b2b-92026044e2ad,id=576a0997-84c4-4215-9b2b-92026044e2ad; trace=06cf5033-6d46-4eb4-817a-b69888605b1f,id=06cf5033-6d46-4eb4-817a-b69888605b1f; trace=28a296dd-ef9f-437f-9af4-2a865b4d3657,id=28a296dd-ef9f-437f-9af4-2a865b4d3657; trace=c2f1ba9b-e8f2-46aa-bfaa-3eb22937fd5b,id=c2f1ba9b-e8f2-46aa-bfaa-3eb22937fd5b; trace=f955422e-0e39-4748-a504-17a10f73d1e9,id=f955422e-0e39-4748-a504-17a10f73d1e9; trace=5c619fa2-adde-4902-a19a-5b861890d6f8,id=5c619fa2-adde-4902-a19a-5b861890d6f8; trace=8d8fb592-c621-4320-89af-5accb887f38c,id=8d8fb592-c621-4320-89af-5accb887f38c\n"
     ]
    },
    {
     "name": "stdout",
     "output_type": "stream",
     "text": [
      "4번째 실행 중...\n"
     ]
    },
    {
     "name": "stderr",
     "output_type": "stream",
     "text": [
      "Failed to send compressed multipart ingest: langsmith.utils.LangSmithRateLimitError: Rate limit exceeded for https://api.smith.langchain.com/runs/multipart. HTTPError('429 Client Error: Too Many Requests for url: https://api.smith.langchain.com/runs/multipart', '{\"error\":\"Too many requests: tenant exceeded usage limits: Monthly unique traces usage limit exceeded\"}\\n')trace=24eff14d-f00c-4e8b-9479-39836645da16,id=24eff14d-f00c-4e8b-9479-39836645da16; trace=74abc5b3-18ad-46bd-84e3-a4fd61ee069d,id=74abc5b3-18ad-46bd-84e3-a4fd61ee069d; trace=e1226b6a-c3d9-46ac-8d38-ffda0c4f4a70,id=e1226b6a-c3d9-46ac-8d38-ffda0c4f4a70; trace=d49f5864-5841-4bb0-b35f-2f1537a42dcc,id=d49f5864-5841-4bb0-b35f-2f1537a42dcc; trace=e74d5bee-158c-4ff9-914d-ac405da064d3,id=e74d5bee-158c-4ff9-914d-ac405da064d3; trace=719d248e-aeb6-425c-a11d-88d0c2632489,id=719d248e-aeb6-425c-a11d-88d0c2632489; trace=b5bb9f1a-778c-4544-92cf-95077091eb64,id=b5bb9f1a-778c-4544-92cf-95077091eb64; trace=c5d7105d-556e-469e-a4ce-97ab0ef57819,id=c5d7105d-556e-469e-a4ce-97ab0ef57819; trace=21053e45-a88c-4724-a749-bf3a2c8fd583,id=21053e45-a88c-4724-a749-bf3a2c8fd583; trace=07fa183d-7b1a-4676-acc5-2dff653546fe,id=07fa183d-7b1a-4676-acc5-2dff653546fe; trace=24eff14d-f00c-4e8b-9479-39836645da16,id=7746faf5-e118-491a-a1fe-ce19b919f89b; trace=24eff14d-f00c-4e8b-9479-39836645da16,id=7746faf5-e118-491a-a1fe-ce19b919f89b; trace=74abc5b3-18ad-46bd-84e3-a4fd61ee069d,id=497277e8-0f3e-4bd5-b32d-03ff977212a6; trace=e1226b6a-c3d9-46ac-8d38-ffda0c4f4a70,id=77c55524-b768-44e2-98c9-faa652a065fc; trace=e1226b6a-c3d9-46ac-8d38-ffda0c4f4a70,id=77c55524-b768-44e2-98c9-faa652a065fc; trace=d49f5864-5841-4bb0-b35f-2f1537a42dcc,id=44895fff-3450-4a1a-a642-c571b01ce129; trace=74abc5b3-18ad-46bd-84e3-a4fd61ee069d,id=497277e8-0f3e-4bd5-b32d-03ff977212a6; trace=e74d5bee-158c-4ff9-914d-ac405da064d3,id=e09c0fed-209b-4003-a1bd-d6bec783900a; trace=d49f5864-5841-4bb0-b35f-2f1537a42dcc,id=44895fff-3450-4a1a-a642-c571b01ce129; trace=719d248e-aeb6-425c-a11d-88d0c2632489,id=06e0f138-fbb5-45b1-8013-1edc323dbe26; trace=e74d5bee-158c-4ff9-914d-ac405da064d3,id=e09c0fed-209b-4003-a1bd-d6bec783900a; trace=c5d7105d-556e-469e-a4ce-97ab0ef57819,id=9bfd6d12-9338-41c1-99d1-066d24893cee; trace=21053e45-a88c-4724-a749-bf3a2c8fd583,id=12b5bfff-5fc1-44c8-acb1-b89cfee86820; trace=07fa183d-7b1a-4676-acc5-2dff653546fe,id=b9a2065e-e02f-4543-81d4-a7d4dca6c2ce; trace=b5bb9f1a-778c-4544-92cf-95077091eb64,id=2bf1bbda-3e02-4d7c-a83d-0b132061aa84; trace=719d248e-aeb6-425c-a11d-88d0c2632489,id=06e0f138-fbb5-45b1-8013-1edc323dbe26; trace=21053e45-a88c-4724-a749-bf3a2c8fd583,id=12b5bfff-5fc1-44c8-acb1-b89cfee86820; trace=07fa183d-7b1a-4676-acc5-2dff653546fe,id=b9a2065e-e02f-4543-81d4-a7d4dca6c2ce; trace=b5bb9f1a-778c-4544-92cf-95077091eb64,id=2bf1bbda-3e02-4d7c-a83d-0b132061aa84; trace=c5d7105d-556e-469e-a4ce-97ab0ef57819,id=9bfd6d12-9338-41c1-99d1-066d24893cee; trace=24eff14d-f00c-4e8b-9479-39836645da16,id=f5367ffa-2068-451b-bdc3-1494816a6784; trace=74abc5b3-18ad-46bd-84e3-a4fd61ee069d,id=c035d70d-b2c3-4eaa-9886-b27ead9dc673; trace=e1226b6a-c3d9-46ac-8d38-ffda0c4f4a70,id=0f34c4ed-67cf-4ef9-b158-9e2989be05ff; trace=d49f5864-5841-4bb0-b35f-2f1537a42dcc,id=17555a9b-0905-4e6f-a906-3b7ff76107d4; trace=e74d5bee-158c-4ff9-914d-ac405da064d3,id=6b5a9f93-e78d-404f-a433-36ba7a48549d; trace=719d248e-aeb6-425c-a11d-88d0c2632489,id=ceb2c9e1-555b-4e32-9bb6-682a026311fe; trace=b5bb9f1a-778c-4544-92cf-95077091eb64,id=51bc0ba9-0203-410e-beae-5f987e4604f3; trace=c5d7105d-556e-469e-a4ce-97ab0ef57819,id=2349833d-939c-466e-aea6-cc56202bfd62; trace=21053e45-a88c-4724-a749-bf3a2c8fd583,id=398f9163-d19d-4ff6-9bd2-29723e6364f4; trace=07fa183d-7b1a-4676-acc5-2dff653546fe,id=5aadbc39-f7f8-422c-a408-a94904e8bf99\n",
      "Failed to send compressed multipart ingest: langsmith.utils.LangSmithRateLimitError: Rate limit exceeded for https://api.smith.langchain.com/runs/multipart. HTTPError('429 Client Error: Too Many Requests for url: https://api.smith.langchain.com/runs/multipart', '{\"error\":\"Too many requests: tenant exceeded usage limits: Monthly unique traces usage limit exceeded\"}\\n')trace=07fa183d-7b1a-4676-acc5-2dff653546fe,id=5aadbc39-f7f8-422c-a408-a94904e8bf99; trace=719d248e-aeb6-425c-a11d-88d0c2632489,id=ceb2c9e1-555b-4e32-9bb6-682a026311fe; trace=e74d5bee-158c-4ff9-914d-ac405da064d3,id=6b5a9f93-e78d-404f-a433-36ba7a48549d; trace=24eff14d-f00c-4e8b-9479-39836645da16,id=f5367ffa-2068-451b-bdc3-1494816a6784; trace=21053e45-a88c-4724-a749-bf3a2c8fd583,id=398f9163-d19d-4ff6-9bd2-29723e6364f4; trace=74abc5b3-18ad-46bd-84e3-a4fd61ee069d,id=c035d70d-b2c3-4eaa-9886-b27ead9dc673; trace=b5bb9f1a-778c-4544-92cf-95077091eb64,id=51bc0ba9-0203-410e-beae-5f987e4604f3; trace=c5d7105d-556e-469e-a4ce-97ab0ef57819,id=2349833d-939c-466e-aea6-cc56202bfd62; trace=e1226b6a-c3d9-46ac-8d38-ffda0c4f4a70,id=0f34c4ed-67cf-4ef9-b158-9e2989be05ff; trace=d49f5864-5841-4bb0-b35f-2f1537a42dcc,id=17555a9b-0905-4e6f-a906-3b7ff76107d4; trace=24eff14d-f00c-4e8b-9479-39836645da16,id=f2b52d00-b4ac-4a1e-966e-319eeef3e2f8; trace=24eff14d-f00c-4e8b-9479-39836645da16,id=f2b52d00-b4ac-4a1e-966e-319eeef3e2f8; trace=74abc5b3-18ad-46bd-84e3-a4fd61ee069d,id=eb6ba8ce-1ed5-4cdd-816b-1366335d4bd7; trace=74abc5b3-18ad-46bd-84e3-a4fd61ee069d,id=eb6ba8ce-1ed5-4cdd-816b-1366335d4bd7; trace=e1226b6a-c3d9-46ac-8d38-ffda0c4f4a70,id=29a1be5a-ffd5-4a21-b3cb-99fc583269f0; trace=e1226b6a-c3d9-46ac-8d38-ffda0c4f4a70,id=29a1be5a-ffd5-4a21-b3cb-99fc583269f0; trace=d49f5864-5841-4bb0-b35f-2f1537a42dcc,id=6010dae0-6ce1-4fc8-b8c7-0c80d3b53bd7; trace=d49f5864-5841-4bb0-b35f-2f1537a42dcc,id=6010dae0-6ce1-4fc8-b8c7-0c80d3b53bd7; trace=e74d5bee-158c-4ff9-914d-ac405da064d3,id=70108b30-3a70-4e64-b2a5-d5f2ec313fb3; trace=e74d5bee-158c-4ff9-914d-ac405da064d3,id=70108b30-3a70-4e64-b2a5-d5f2ec313fb3; trace=719d248e-aeb6-425c-a11d-88d0c2632489,id=210b6a8d-dacd-472b-a034-e9f016232892; trace=b5bb9f1a-778c-4544-92cf-95077091eb64,id=0998a4c3-1c6e-4e45-9b41-5894274b232f; trace=c5d7105d-556e-469e-a4ce-97ab0ef57819,id=b46ff393-1e0b-49b4-b3ec-1cc9a432cb0d; trace=719d248e-aeb6-425c-a11d-88d0c2632489,id=210b6a8d-dacd-472b-a034-e9f016232892; trace=21053e45-a88c-4724-a749-bf3a2c8fd583,id=956f9408-9b4b-4621-b622-561639c52c1b; trace=b5bb9f1a-778c-4544-92cf-95077091eb64,id=0998a4c3-1c6e-4e45-9b41-5894274b232f; trace=c5d7105d-556e-469e-a4ce-97ab0ef57819,id=b46ff393-1e0b-49b4-b3ec-1cc9a432cb0d; trace=21053e45-a88c-4724-a749-bf3a2c8fd583,id=956f9408-9b4b-4621-b622-561639c52c1b; trace=07fa183d-7b1a-4676-acc5-2dff653546fe,id=0349537e-240d-4d80-9851-1c6516586cb2; trace=07fa183d-7b1a-4676-acc5-2dff653546fe,id=0349537e-240d-4d80-9851-1c6516586cb2; trace=24eff14d-f00c-4e8b-9479-39836645da16,id=24eff14d-f00c-4e8b-9479-39836645da16; trace=74abc5b3-18ad-46bd-84e3-a4fd61ee069d,id=74abc5b3-18ad-46bd-84e3-a4fd61ee069d; trace=e1226b6a-c3d9-46ac-8d38-ffda0c4f4a70,id=e1226b6a-c3d9-46ac-8d38-ffda0c4f4a70; trace=d49f5864-5841-4bb0-b35f-2f1537a42dcc,id=d49f5864-5841-4bb0-b35f-2f1537a42dcc; trace=e74d5bee-158c-4ff9-914d-ac405da064d3,id=e74d5bee-158c-4ff9-914d-ac405da064d3; trace=719d248e-aeb6-425c-a11d-88d0c2632489,id=719d248e-aeb6-425c-a11d-88d0c2632489; trace=b5bb9f1a-778c-4544-92cf-95077091eb64,id=b5bb9f1a-778c-4544-92cf-95077091eb64; trace=c5d7105d-556e-469e-a4ce-97ab0ef57819,id=c5d7105d-556e-469e-a4ce-97ab0ef57819; trace=21053e45-a88c-4724-a749-bf3a2c8fd583,id=21053e45-a88c-4724-a749-bf3a2c8fd583; trace=07fa183d-7b1a-4676-acc5-2dff653546fe,id=07fa183d-7b1a-4676-acc5-2dff653546fe\n"
     ]
    },
    {
     "name": "stdout",
     "output_type": "stream",
     "text": [
      "5번째 실행 중...\n"
     ]
    },
    {
     "name": "stderr",
     "output_type": "stream",
     "text": [
      "Failed to send compressed multipart ingest: langsmith.utils.LangSmithRateLimitError: Rate limit exceeded for https://api.smith.langchain.com/runs/multipart. HTTPError('429 Client Error: Too Many Requests for url: https://api.smith.langchain.com/runs/multipart', '{\"error\":\"Too many requests: tenant exceeded usage limits: Monthly unique traces usage limit exceeded\"}\\n')trace=d584c357-e6eb-448f-988e-03349fc8997d,id=d584c357-e6eb-448f-988e-03349fc8997d; trace=5233b07c-e34f-40be-9c10-3aac23bec478,id=5233b07c-e34f-40be-9c10-3aac23bec478; trace=fafe2b8c-cf0e-4218-ba97-d50406393cbb,id=fafe2b8c-cf0e-4218-ba97-d50406393cbb; trace=22844298-fe12-4886-b831-40ee42ecfcb1,id=22844298-fe12-4886-b831-40ee42ecfcb1; trace=0afbfc40-7acf-47e9-80f9-d478f5650f49,id=0afbfc40-7acf-47e9-80f9-d478f5650f49; trace=bcb0fa79-bcff-4827-890a-619c9c1e3526,id=bcb0fa79-bcff-4827-890a-619c9c1e3526; trace=6c25e419-6707-4281-8825-0b7a80b49289,id=6c25e419-6707-4281-8825-0b7a80b49289; trace=10f51a53-6845-4f25-b8af-4f458f2d2892,id=10f51a53-6845-4f25-b8af-4f458f2d2892; trace=3e92071c-115b-4e28-982a-075602f47a0c,id=3e92071c-115b-4e28-982a-075602f47a0c; trace=679d1caa-1599-498c-b79d-7cfa5211fcd5,id=679d1caa-1599-498c-b79d-7cfa5211fcd5; trace=d584c357-e6eb-448f-988e-03349fc8997d,id=53aa3e9c-8c88-4e0b-9c72-c886e9626e58; trace=d584c357-e6eb-448f-988e-03349fc8997d,id=53aa3e9c-8c88-4e0b-9c72-c886e9626e58; trace=5233b07c-e34f-40be-9c10-3aac23bec478,id=4ec47170-ca58-498f-95bf-8cc4c30e39a5; trace=fafe2b8c-cf0e-4218-ba97-d50406393cbb,id=a52d311e-cd29-42bd-ab92-966ca8c24e28; trace=5233b07c-e34f-40be-9c10-3aac23bec478,id=4ec47170-ca58-498f-95bf-8cc4c30e39a5; trace=22844298-fe12-4886-b831-40ee42ecfcb1,id=9b624d8d-cf5c-44e1-8070-bfee33b85b1f; trace=fafe2b8c-cf0e-4218-ba97-d50406393cbb,id=a52d311e-cd29-42bd-ab92-966ca8c24e28; trace=0afbfc40-7acf-47e9-80f9-d478f5650f49,id=a9c045fc-cee1-4387-bbc4-ededa525d8c7; trace=22844298-fe12-4886-b831-40ee42ecfcb1,id=9b624d8d-cf5c-44e1-8070-bfee33b85b1f; trace=bcb0fa79-bcff-4827-890a-619c9c1e3526,id=990f1ac4-38db-47e1-aba9-3367de0916db; trace=6c25e419-6707-4281-8825-0b7a80b49289,id=5e260953-02e1-4cf1-ba7a-2c8d94af3ece; trace=10f51a53-6845-4f25-b8af-4f458f2d2892,id=16977750-2e0b-402c-9bba-5764b5a94a64; trace=3e92071c-115b-4e28-982a-075602f47a0c,id=00e62359-aaf0-4fda-96c4-f29bc33ac258; trace=679d1caa-1599-498c-b79d-7cfa5211fcd5,id=9a270e62-6aba-496a-adfe-bb86a53e68a2; trace=0afbfc40-7acf-47e9-80f9-d478f5650f49,id=a9c045fc-cee1-4387-bbc4-ededa525d8c7; trace=bcb0fa79-bcff-4827-890a-619c9c1e3526,id=990f1ac4-38db-47e1-aba9-3367de0916db; trace=6c25e419-6707-4281-8825-0b7a80b49289,id=5e260953-02e1-4cf1-ba7a-2c8d94af3ece; trace=10f51a53-6845-4f25-b8af-4f458f2d2892,id=16977750-2e0b-402c-9bba-5764b5a94a64; trace=3e92071c-115b-4e28-982a-075602f47a0c,id=00e62359-aaf0-4fda-96c4-f29bc33ac258; trace=679d1caa-1599-498c-b79d-7cfa5211fcd5,id=9a270e62-6aba-496a-adfe-bb86a53e68a2; trace=d584c357-e6eb-448f-988e-03349fc8997d,id=cd040cb2-b2b4-40a9-90d8-e27f1dedf4e5; trace=5233b07c-e34f-40be-9c10-3aac23bec478,id=8131450a-fc28-4110-b13d-2d84d51a5095; trace=fafe2b8c-cf0e-4218-ba97-d50406393cbb,id=36e1c741-fa39-411b-b62b-024b54b29620; trace=22844298-fe12-4886-b831-40ee42ecfcb1,id=e005930a-afa6-4e20-9f52-e2188c65712c; trace=0afbfc40-7acf-47e9-80f9-d478f5650f49,id=915d60e9-36ab-48c4-97c4-e54d2d786ec7; trace=bcb0fa79-bcff-4827-890a-619c9c1e3526,id=509767c7-bd0e-4bf4-8e01-33e764a89dca; trace=6c25e419-6707-4281-8825-0b7a80b49289,id=5c1eb71d-5cdc-435c-b559-310b9adf2f65; trace=10f51a53-6845-4f25-b8af-4f458f2d2892,id=f94212c7-d844-499c-bbda-0e2c7e5d17a1; trace=3e92071c-115b-4e28-982a-075602f47a0c,id=43346462-1197-475c-a734-c902c106d96d; trace=679d1caa-1599-498c-b79d-7cfa5211fcd5,id=5b75490b-ecf7-4eda-ab7c-1c5978927ba5\n",
      "Failed to send compressed multipart ingest: langsmith.utils.LangSmithRateLimitError: Rate limit exceeded for https://api.smith.langchain.com/runs/multipart. HTTPError('429 Client Error: Too Many Requests for url: https://api.smith.langchain.com/runs/multipart', '{\"error\":\"Too many requests: tenant exceeded usage limits: Monthly unique traces usage limit exceeded\"}\\n')trace=fafe2b8c-cf0e-4218-ba97-d50406393cbb,id=36e1c741-fa39-411b-b62b-024b54b29620; trace=0afbfc40-7acf-47e9-80f9-d478f5650f49,id=915d60e9-36ab-48c4-97c4-e54d2d786ec7; trace=d584c357-e6eb-448f-988e-03349fc8997d,id=cd040cb2-b2b4-40a9-90d8-e27f1dedf4e5; trace=5233b07c-e34f-40be-9c10-3aac23bec478,id=8131450a-fc28-4110-b13d-2d84d51a5095; trace=3e92071c-115b-4e28-982a-075602f47a0c,id=43346462-1197-475c-a734-c902c106d96d; trace=679d1caa-1599-498c-b79d-7cfa5211fcd5,id=5b75490b-ecf7-4eda-ab7c-1c5978927ba5; trace=22844298-fe12-4886-b831-40ee42ecfcb1,id=e005930a-afa6-4e20-9f52-e2188c65712c; trace=bcb0fa79-bcff-4827-890a-619c9c1e3526,id=509767c7-bd0e-4bf4-8e01-33e764a89dca; trace=6c25e419-6707-4281-8825-0b7a80b49289,id=5c1eb71d-5cdc-435c-b559-310b9adf2f65\n",
      "Failed to send compressed multipart ingest: langsmith.utils.LangSmithRateLimitError: Rate limit exceeded for https://api.smith.langchain.com/runs/multipart. HTTPError('429 Client Error: Too Many Requests for url: https://api.smith.langchain.com/runs/multipart', '{\"error\":\"Too many requests: tenant exceeded usage limits: Monthly unique traces usage limit exceeded\"}\\n')trace=10f51a53-6845-4f25-b8af-4f458f2d2892,id=f94212c7-d844-499c-bbda-0e2c7e5d17a1; trace=d584c357-e6eb-448f-988e-03349fc8997d,id=4da2286d-0e77-4606-9ebc-77b52a19f4d6; trace=d584c357-e6eb-448f-988e-03349fc8997d,id=4da2286d-0e77-4606-9ebc-77b52a19f4d6; trace=5233b07c-e34f-40be-9c10-3aac23bec478,id=346fa2e8-e3d0-477d-9576-6b1b8774aa80; trace=5233b07c-e34f-40be-9c10-3aac23bec478,id=346fa2e8-e3d0-477d-9576-6b1b8774aa80; trace=fafe2b8c-cf0e-4218-ba97-d50406393cbb,id=1790aedf-3862-4c9e-bf9f-46255de3a28c; trace=22844298-fe12-4886-b831-40ee42ecfcb1,id=69cf4134-6089-4974-a847-51b27236ed7c; trace=0afbfc40-7acf-47e9-80f9-d478f5650f49,id=1da23ca9-25e7-4bdf-8149-64418fa61a30; trace=bcb0fa79-bcff-4827-890a-619c9c1e3526,id=f5c5aefe-d517-4aaa-ada5-c22209a31c5e; trace=22844298-fe12-4886-b831-40ee42ecfcb1,id=69cf4134-6089-4974-a847-51b27236ed7c; trace=0afbfc40-7acf-47e9-80f9-d478f5650f49,id=1da23ca9-25e7-4bdf-8149-64418fa61a30; trace=6c25e419-6707-4281-8825-0b7a80b49289,id=c01ea27d-9747-47df-bbb4-d11f61f18b18; trace=fafe2b8c-cf0e-4218-ba97-d50406393cbb,id=1790aedf-3862-4c9e-bf9f-46255de3a28c; trace=bcb0fa79-bcff-4827-890a-619c9c1e3526,id=f5c5aefe-d517-4aaa-ada5-c22209a31c5e; trace=3e92071c-115b-4e28-982a-075602f47a0c,id=8cd8b0b4-dc58-4da7-9bbc-afb024dadeb3; trace=679d1caa-1599-498c-b79d-7cfa5211fcd5,id=6a0ddec6-cc89-47e0-b7a3-2a3492e1bee9; trace=6c25e419-6707-4281-8825-0b7a80b49289,id=c01ea27d-9747-47df-bbb4-d11f61f18b18; trace=10f51a53-6845-4f25-b8af-4f458f2d2892,id=b3768731-2db0-437d-8ea4-61bb7e841432; trace=3e92071c-115b-4e28-982a-075602f47a0c,id=8cd8b0b4-dc58-4da7-9bbc-afb024dadeb3; trace=10f51a53-6845-4f25-b8af-4f458f2d2892,id=b3768731-2db0-437d-8ea4-61bb7e841432; trace=679d1caa-1599-498c-b79d-7cfa5211fcd5,id=6a0ddec6-cc89-47e0-b7a3-2a3492e1bee9; trace=d584c357-e6eb-448f-988e-03349fc8997d,id=d584c357-e6eb-448f-988e-03349fc8997d; trace=5233b07c-e34f-40be-9c10-3aac23bec478,id=5233b07c-e34f-40be-9c10-3aac23bec478; trace=fafe2b8c-cf0e-4218-ba97-d50406393cbb,id=fafe2b8c-cf0e-4218-ba97-d50406393cbb; trace=22844298-fe12-4886-b831-40ee42ecfcb1,id=22844298-fe12-4886-b831-40ee42ecfcb1; trace=0afbfc40-7acf-47e9-80f9-d478f5650f49,id=0afbfc40-7acf-47e9-80f9-d478f5650f49; trace=bcb0fa79-bcff-4827-890a-619c9c1e3526,id=bcb0fa79-bcff-4827-890a-619c9c1e3526; trace=6c25e419-6707-4281-8825-0b7a80b49289,id=6c25e419-6707-4281-8825-0b7a80b49289; trace=10f51a53-6845-4f25-b8af-4f458f2d2892,id=10f51a53-6845-4f25-b8af-4f458f2d2892; trace=3e92071c-115b-4e28-982a-075602f47a0c,id=3e92071c-115b-4e28-982a-075602f47a0c; trace=679d1caa-1599-498c-b79d-7cfa5211fcd5,id=679d1caa-1599-498c-b79d-7cfa5211fcd5\n"
     ]
    },
    {
     "name": "stdout",
     "output_type": "stream",
     "text": [
      "6번째 실행 중...\n"
     ]
    },
    {
     "name": "stderr",
     "output_type": "stream",
     "text": [
      "Failed to send compressed multipart ingest: langsmith.utils.LangSmithRateLimitError: Rate limit exceeded for https://api.smith.langchain.com/runs/multipart. HTTPError('429 Client Error: Too Many Requests for url: https://api.smith.langchain.com/runs/multipart', '{\"error\":\"Too many requests: tenant exceeded usage limits: Monthly unique traces usage limit exceeded\"}\\n')trace=25eef1e1-e198-4e2b-9de2-d75e79e59ac3,id=25eef1e1-e198-4e2b-9de2-d75e79e59ac3; trace=49221551-9964-4a85-90c0-42adeabda203,id=49221551-9964-4a85-90c0-42adeabda203; trace=e5ac6c19-88e8-49d4-8cbd-a45b4757dce5,id=e5ac6c19-88e8-49d4-8cbd-a45b4757dce5; trace=c42aefe5-7ef1-4d9e-811f-12d653d0a4ab,id=c42aefe5-7ef1-4d9e-811f-12d653d0a4ab; trace=0466b1b9-806d-4dea-9960-34d0adbd3058,id=0466b1b9-806d-4dea-9960-34d0adbd3058; trace=51d7d1b4-2266-49b6-a859-700437cbe8d3,id=51d7d1b4-2266-49b6-a859-700437cbe8d3; trace=c1bd2db9-2772-4023-afa9-011de0d70053,id=c1bd2db9-2772-4023-afa9-011de0d70053; trace=9c4841f3-84a5-4c01-81f6-6e25a0535748,id=9c4841f3-84a5-4c01-81f6-6e25a0535748; trace=b7e61839-9fa2-4936-b22a-e6bc1113d5ba,id=b7e61839-9fa2-4936-b22a-e6bc1113d5ba; trace=8e35fb30-db06-4022-8940-9b697c80a6f8,id=8e35fb30-db06-4022-8940-9b697c80a6f8; trace=25eef1e1-e198-4e2b-9de2-d75e79e59ac3,id=05a88482-c7e0-4fe2-89a6-e1cbd4e022da; trace=25eef1e1-e198-4e2b-9de2-d75e79e59ac3,id=05a88482-c7e0-4fe2-89a6-e1cbd4e022da; trace=49221551-9964-4a85-90c0-42adeabda203,id=6c81d76d-d7f1-4d69-883e-ba6895728d51; trace=e5ac6c19-88e8-49d4-8cbd-a45b4757dce5,id=7f8d62f3-7e03-4878-9eeb-3984d47c1552; trace=49221551-9964-4a85-90c0-42adeabda203,id=6c81d76d-d7f1-4d69-883e-ba6895728d51; trace=c42aefe5-7ef1-4d9e-811f-12d653d0a4ab,id=a9152e0b-353e-4347-8230-4d356d870eb2; trace=e5ac6c19-88e8-49d4-8cbd-a45b4757dce5,id=7f8d62f3-7e03-4878-9eeb-3984d47c1552; trace=c42aefe5-7ef1-4d9e-811f-12d653d0a4ab,id=a9152e0b-353e-4347-8230-4d356d870eb2; trace=51d7d1b4-2266-49b6-a859-700437cbe8d3,id=cf8a3a1e-e0f8-41db-937a-5f569c60c129; trace=0466b1b9-806d-4dea-9960-34d0adbd3058,id=67b1e571-fe31-4081-8f0f-959ff86cea4a; trace=c1bd2db9-2772-4023-afa9-011de0d70053,id=92000e88-0ecf-474f-9c2a-f487d56b1e6f; trace=51d7d1b4-2266-49b6-a859-700437cbe8d3,id=cf8a3a1e-e0f8-41db-937a-5f569c60c129; trace=0466b1b9-806d-4dea-9960-34d0adbd3058,id=67b1e571-fe31-4081-8f0f-959ff86cea4a; trace=b7e61839-9fa2-4936-b22a-e6bc1113d5ba,id=c89f318b-03af-4701-a4f2-1aeeaf5a71f7; trace=8e35fb30-db06-4022-8940-9b697c80a6f8,id=c1ad214e-ee1c-450a-929a-5863ba32036a; trace=c1bd2db9-2772-4023-afa9-011de0d70053,id=92000e88-0ecf-474f-9c2a-f487d56b1e6f; trace=9c4841f3-84a5-4c01-81f6-6e25a0535748,id=a8186272-cfb1-4581-98ec-d245a9b6891b; trace=b7e61839-9fa2-4936-b22a-e6bc1113d5ba,id=c89f318b-03af-4701-a4f2-1aeeaf5a71f7; trace=8e35fb30-db06-4022-8940-9b697c80a6f8,id=c1ad214e-ee1c-450a-929a-5863ba32036a; trace=9c4841f3-84a5-4c01-81f6-6e25a0535748,id=a8186272-cfb1-4581-98ec-d245a9b6891b; trace=25eef1e1-e198-4e2b-9de2-d75e79e59ac3,id=d96af220-a9aa-4802-860f-d09b910ea7dc; trace=49221551-9964-4a85-90c0-42adeabda203,id=526da204-0c3f-4616-8594-e627e76f86b4; trace=e5ac6c19-88e8-49d4-8cbd-a45b4757dce5,id=67c19f85-ee2b-44d8-9ba1-0930d5b1f5a7; trace=c42aefe5-7ef1-4d9e-811f-12d653d0a4ab,id=24d1b76b-b170-4610-b50d-a80680d281db; trace=0466b1b9-806d-4dea-9960-34d0adbd3058,id=9a0895e2-c64c-4dcb-bd41-79e9c32d8299; trace=51d7d1b4-2266-49b6-a859-700437cbe8d3,id=6118d89a-30cd-4691-8b6e-fb59b3a09166; trace=c1bd2db9-2772-4023-afa9-011de0d70053,id=38f4cdca-57c7-485a-986c-89b404104798; trace=9c4841f3-84a5-4c01-81f6-6e25a0535748,id=aaf5dfb2-20f8-4aee-8d63-361fb73586fb; trace=b7e61839-9fa2-4936-b22a-e6bc1113d5ba,id=0d80ee85-1bcc-4728-9cd2-cdf570b5f2d3; trace=8e35fb30-db06-4022-8940-9b697c80a6f8,id=2a600fc3-96ee-4551-be29-6af2c272138a\n",
      "Failed to send compressed multipart ingest: langsmith.utils.LangSmithRateLimitError: Rate limit exceeded for https://api.smith.langchain.com/runs/multipart. HTTPError('429 Client Error: Too Many Requests for url: https://api.smith.langchain.com/runs/multipart', '{\"error\":\"Too many requests: tenant exceeded usage limits: Monthly unique traces usage limit exceeded\"}\\n')trace=0466b1b9-806d-4dea-9960-34d0adbd3058,id=9a0895e2-c64c-4dcb-bd41-79e9c32d8299; trace=51d7d1b4-2266-49b6-a859-700437cbe8d3,id=6118d89a-30cd-4691-8b6e-fb59b3a09166; trace=8e35fb30-db06-4022-8940-9b697c80a6f8,id=2a600fc3-96ee-4551-be29-6af2c272138a; trace=49221551-9964-4a85-90c0-42adeabda203,id=526da204-0c3f-4616-8594-e627e76f86b4; trace=b7e61839-9fa2-4936-b22a-e6bc1113d5ba,id=0d80ee85-1bcc-4728-9cd2-cdf570b5f2d3; trace=25eef1e1-e198-4e2b-9de2-d75e79e59ac3,id=d96af220-a9aa-4802-860f-d09b910ea7dc; trace=c1bd2db9-2772-4023-afa9-011de0d70053,id=38f4cdca-57c7-485a-986c-89b404104798; trace=9c4841f3-84a5-4c01-81f6-6e25a0535748,id=aaf5dfb2-20f8-4aee-8d63-361fb73586fb; trace=e5ac6c19-88e8-49d4-8cbd-a45b4757dce5,id=67c19f85-ee2b-44d8-9ba1-0930d5b1f5a7; trace=c42aefe5-7ef1-4d9e-811f-12d653d0a4ab,id=24d1b76b-b170-4610-b50d-a80680d281db; trace=25eef1e1-e198-4e2b-9de2-d75e79e59ac3,id=09e08394-40df-41a4-a0d2-d47fdb77aa64; trace=25eef1e1-e198-4e2b-9de2-d75e79e59ac3,id=09e08394-40df-41a4-a0d2-d47fdb77aa64; trace=49221551-9964-4a85-90c0-42adeabda203,id=14c25e06-660a-4925-8faf-0a1745c9214c; trace=e5ac6c19-88e8-49d4-8cbd-a45b4757dce5,id=aa7c7fd7-4752-47fc-9c69-6d5c693396e5; trace=c42aefe5-7ef1-4d9e-811f-12d653d0a4ab,id=fd8b53ad-e324-46de-ac1c-866965ed0fca; trace=49221551-9964-4a85-90c0-42adeabda203,id=14c25e06-660a-4925-8faf-0a1745c9214c; trace=e5ac6c19-88e8-49d4-8cbd-a45b4757dce5,id=aa7c7fd7-4752-47fc-9c69-6d5c693396e5; trace=0466b1b9-806d-4dea-9960-34d0adbd3058,id=4af1070a-d528-42cc-b58b-5183147c4c60; trace=c42aefe5-7ef1-4d9e-811f-12d653d0a4ab,id=fd8b53ad-e324-46de-ac1c-866965ed0fca; trace=51d7d1b4-2266-49b6-a859-700437cbe8d3,id=6b1f87a3-0576-4446-b3d9-d56fb18c17be; trace=9c4841f3-84a5-4c01-81f6-6e25a0535748,id=5f46043a-4b39-49b9-ae68-c6ff86b757d4; trace=0466b1b9-806d-4dea-9960-34d0adbd3058,id=4af1070a-d528-42cc-b58b-5183147c4c60; trace=b7e61839-9fa2-4936-b22a-e6bc1113d5ba,id=7cd9ccf7-edf2-47db-827b-b92a3d457a34; trace=8e35fb30-db06-4022-8940-9b697c80a6f8,id=c0c89663-9c46-488c-8647-1d05e5478204; trace=c1bd2db9-2772-4023-afa9-011de0d70053,id=7241b6b2-4b3e-4ec9-844c-576af7e5e25c; trace=51d7d1b4-2266-49b6-a859-700437cbe8d3,id=6b1f87a3-0576-4446-b3d9-d56fb18c17be; trace=9c4841f3-84a5-4c01-81f6-6e25a0535748,id=5f46043a-4b39-49b9-ae68-c6ff86b757d4; trace=8e35fb30-db06-4022-8940-9b697c80a6f8,id=c0c89663-9c46-488c-8647-1d05e5478204; trace=c1bd2db9-2772-4023-afa9-011de0d70053,id=7241b6b2-4b3e-4ec9-844c-576af7e5e25c; trace=b7e61839-9fa2-4936-b22a-e6bc1113d5ba,id=7cd9ccf7-edf2-47db-827b-b92a3d457a34; trace=25eef1e1-e198-4e2b-9de2-d75e79e59ac3,id=25eef1e1-e198-4e2b-9de2-d75e79e59ac3; trace=49221551-9964-4a85-90c0-42adeabda203,id=49221551-9964-4a85-90c0-42adeabda203; trace=e5ac6c19-88e8-49d4-8cbd-a45b4757dce5,id=e5ac6c19-88e8-49d4-8cbd-a45b4757dce5; trace=c42aefe5-7ef1-4d9e-811f-12d653d0a4ab,id=c42aefe5-7ef1-4d9e-811f-12d653d0a4ab; trace=0466b1b9-806d-4dea-9960-34d0adbd3058,id=0466b1b9-806d-4dea-9960-34d0adbd3058; trace=51d7d1b4-2266-49b6-a859-700437cbe8d3,id=51d7d1b4-2266-49b6-a859-700437cbe8d3; trace=c1bd2db9-2772-4023-afa9-011de0d70053,id=c1bd2db9-2772-4023-afa9-011de0d70053; trace=9c4841f3-84a5-4c01-81f6-6e25a0535748,id=9c4841f3-84a5-4c01-81f6-6e25a0535748; trace=b7e61839-9fa2-4936-b22a-e6bc1113d5ba,id=b7e61839-9fa2-4936-b22a-e6bc1113d5ba; trace=8e35fb30-db06-4022-8940-9b697c80a6f8,id=8e35fb30-db06-4022-8940-9b697c80a6f8\n"
     ]
    },
    {
     "name": "stdout",
     "output_type": "stream",
     "text": [
      "7번째 실행 중...\n"
     ]
    },
    {
     "name": "stderr",
     "output_type": "stream",
     "text": [
      "Failed to send compressed multipart ingest: langsmith.utils.LangSmithRateLimitError: Rate limit exceeded for https://api.smith.langchain.com/runs/multipart. HTTPError('429 Client Error: Too Many Requests for url: https://api.smith.langchain.com/runs/multipart', '{\"error\":\"Too many requests: tenant exceeded usage limits: Monthly unique traces usage limit exceeded\"}\\n')trace=3e4b19a4-fa5c-4dad-bde3-581c98827c86,id=3e4b19a4-fa5c-4dad-bde3-581c98827c86; trace=3a128232-b3f4-455b-9156-8aaf8c43195a,id=3a128232-b3f4-455b-9156-8aaf8c43195a; trace=7a0fc620-e074-4b4b-8380-0bd36b47a87f,id=7a0fc620-e074-4b4b-8380-0bd36b47a87f; trace=e4c021e6-b909-4ef6-a1ed-7d3a43a7279b,id=e4c021e6-b909-4ef6-a1ed-7d3a43a7279b; trace=87fe50f3-7eef-40c8-8dfa-d3dc2ed5506d,id=87fe50f3-7eef-40c8-8dfa-d3dc2ed5506d; trace=9b306026-62b7-4010-87bd-7b636fd3a737,id=9b306026-62b7-4010-87bd-7b636fd3a737; trace=5e4e9716-c0dd-42bd-8209-c576f9760397,id=5e4e9716-c0dd-42bd-8209-c576f9760397; trace=3e4b19a4-fa5c-4dad-bde3-581c98827c86,id=098d05e2-03bc-4acc-b5e2-9e660470c1ea; trace=3e4b19a4-fa5c-4dad-bde3-581c98827c86,id=098d05e2-03bc-4acc-b5e2-9e660470c1ea; trace=3a128232-b3f4-455b-9156-8aaf8c43195a,id=c7d4894c-e973-4cf5-b4b9-a32a649e4d30; trace=7a0fc620-e074-4b4b-8380-0bd36b47a87f,id=e1fefdf3-45c7-46ae-be5b-df4d04865f1a; trace=3a128232-b3f4-455b-9156-8aaf8c43195a,id=c7d4894c-e973-4cf5-b4b9-a32a649e4d30; trace=7a0fc620-e074-4b4b-8380-0bd36b47a87f,id=e1fefdf3-45c7-46ae-be5b-df4d04865f1a; trace=e4c021e6-b909-4ef6-a1ed-7d3a43a7279b,id=b439dca4-d0da-4c7e-a6cf-61db4d39dc3d; trace=87fe50f3-7eef-40c8-8dfa-d3dc2ed5506d,id=35ecf4f5-89ce-4f22-95c6-afba228ebdea; trace=9b306026-62b7-4010-87bd-7b636fd3a737,id=0cdd3663-0c17-446b-98e1-37e4c4babe99; trace=e4c021e6-b909-4ef6-a1ed-7d3a43a7279b,id=b439dca4-d0da-4c7e-a6cf-61db4d39dc3d; trace=5e4e9716-c0dd-42bd-8209-c576f9760397,id=ba295a49-56fd-4761-8015-68ab80eea85f; trace=87fe50f3-7eef-40c8-8dfa-d3dc2ed5506d,id=35ecf4f5-89ce-4f22-95c6-afba228ebdea; trace=5e4e9716-c0dd-42bd-8209-c576f9760397,id=ba295a49-56fd-4761-8015-68ab80eea85f; trace=9b306026-62b7-4010-87bd-7b636fd3a737,id=0cdd3663-0c17-446b-98e1-37e4c4babe99; trace=3e4b19a4-fa5c-4dad-bde3-581c98827c86,id=5f5e686c-d818-4452-b682-294198279e32; trace=3a128232-b3f4-455b-9156-8aaf8c43195a,id=18dbf24f-9e55-46ea-a698-5c9e120fcf93; trace=7a0fc620-e074-4b4b-8380-0bd36b47a87f,id=6e79317e-f306-41f1-be90-b186317c8149; trace=e4c021e6-b909-4ef6-a1ed-7d3a43a7279b,id=7d17b3ca-5fc7-4eba-b55a-bea50a282bb9; trace=87fe50f3-7eef-40c8-8dfa-d3dc2ed5506d,id=a8ca611c-bb0d-4efa-8221-2e22bda23388; trace=9b306026-62b7-4010-87bd-7b636fd3a737,id=6d331c50-4137-4adc-9042-406441670fa0; trace=5e4e9716-c0dd-42bd-8209-c576f9760397,id=85b96560-061e-4b80-bb3e-55360a49bc94\n"
     ]
    },
    {
     "name": "stdout",
     "output_type": "stream",
     "text": [
      "{'review_id': 53305893, 'keywords': ['품질', '마감', '내구성', '사용감', '성능']}\n",
      "{'review_id': 53305745, 'keywords': ['색감', '사이즈', '쿠션감']}\n",
      "{'review_id': 53291001, 'keywords': ['길이', '커튼', '재질', '가벼움']}\n",
      "{'review_id': 53290715, 'keywords': ['원단', '나비주름', '고급스러움']}\n",
      "{'review_id': 53308210, 'keywords': ['포근함']}\n",
      "{'review_id': 53308125, 'keywords': []}\n",
      "{'review_id': 53306498, 'keywords': ['보들보들함', '세탁기', '편리함']}\n",
      "{'review_id': 53306432, 'keywords': ['포근함', '사계절용', '배송']}\n",
      "{'review_id': 53294962, 'keywords': ['배송', '주름', '안내서', '프라이버시']}\n",
      "{'review_id': 53316092, 'keywords': ['이불', '감촉', '느낌']}\n",
      "{'review_id': 53313553, 'keywords': ['부드러움', '냉감', '아이들']}\n",
      "{'review_id': 53313020, 'keywords': ['촉감', '사계절', '여름', '이불', '편']}\n",
      "{'review_id': 53312735, 'keywords': ['색감', '보온', '간절기', '이불']}\n",
      "{'review_id': 53308947, 'keywords': ['원단']}\n",
      "{'review_id': 53315265, 'keywords': ['커텐', '사이즈', '천', '나비주름']}\n",
      "{'review_id': 53312244, 'keywords': ['채광', '고급스러움', '커텐']}\n",
      "{'review_id': 53310616, 'keywords': ['커튼', '천', '레일', '주름', '배송']}\n",
      "{'review_id': 53309977, 'keywords': ['가로길이', '주름']}\n",
      "{'review_id': 53309625, 'keywords': ['커튼', '여유길이', '주름']}\n",
      "{'review_id': 53305215, 'keywords': ['화이트', '주름', '설치', '사이즈']}\n",
      "{'review_id': 53304420, 'keywords': ['길이', '가격']}\n",
      "{'review_id': 53302877, 'keywords': ['가리개', '커튼', '봉', '색상', '재구매']}\n",
      "{'review_id': 53302773, 'keywords': ['커튼', '비침', '화사함', '재구매']}\n",
      "{'review_id': 53352884, 'keywords': ['푹신푹신', '이불', '포근함', '가벼움']}\n",
      "{'review_id': 53352407, 'keywords': ['차렵이불', '촉감', '퀄리티']}\n",
      "{'review_id': 53352305, 'keywords': ['색', '커버', '차렵이불', '두께', '촉감']}\n",
      "{'review_id': 53350801, 'keywords': ['침대', '원단', '이불', '간절기']}\n",
      "{'review_id': 53350605, 'keywords': ['침대', '셋트', '베리', '색감']}\n",
      "{'review_id': 53350214, 'keywords': []}\n",
      "{'review_id': 53349114, 'keywords': ['이불', '포근함', '분위기']}\n",
      "{'review_id': 53354167, 'keywords': ['커튼', '종류', '금액대', '인테리어']}\n",
      "{'review_id': 53353059, 'keywords': ['분위기', '거실', '커튼', '주름', '사이즈']}\n",
      "{'review_id': 53352036, 'keywords': ['커튼', '디자인', '빛', '공간', '인테리어']}\n",
      "{'review_id': 53351933, 'keywords': ['도톰', '커텐', '강바람', '박음질', '튜튼']}\n",
      "{'review_id': 53351699, 'keywords': ['커텐', '제작 기간', '길이', '예쁨']}\n",
      "{'review_id': 53348242, 'keywords': ['커튼', '암막', '세탁']}\n",
      "{'review_id': 53344043, 'keywords': ['사이즈', '집', '이사']}\n",
      "{'review_id': 53344003, 'keywords': ['거실커텐', '빛 차단', '사생활 보호', '길이', '원단']}\n",
      "{'review_id': 53342075, 'keywords': ['커텐', '주름', '거실', '나비주름']}\n",
      "{'review_id': 53335778, 'keywords': ['가격']}\n",
      "{'review_id': 53330980, 'keywords': ['쉬폰커튼', '거실', '분위기', '속커튼', '느낌']}\n",
      "{'review_id': 53329090, 'keywords': ['주름', '길이', '기간']}\n",
      "{'review_id': 53327863, 'keywords': []}\n",
      "{'review_id': 53327048, 'keywords': ['카텐', '인테리어', '화이트', '퀄리티']}\n",
      "{'review_id': 53326362, 'keywords': ['사이즈', '빛', '디자인']}\n",
      "{'review_id': 53354018, 'keywords': ['암막', '밝은색', '형상기억', '느낌']}\n",
      "{'review_id': 53350097, 'keywords': ['커튼', '햇빛', '차단', '분위기']}\n",
      "{'review_id': 53349520, 'keywords': ['가로길이', '색상', '무게감', '재질']}\n",
      "{'review_id': 53349198, 'keywords': ['색상', '암막', '주름']}\n",
      "{'review_id': 53348345, 'keywords': ['암막', '커텐', '차이', '해', '사용']}\n",
      "{'review_id': 53341211, 'keywords': ['암막커튼', '걸이', '제품', '질', '바느질']}\n",
      "{'review_id': 53331855, 'keywords': ['커튼', '주문', '암막']}\n",
      "{'review_id': 53320669, 'keywords': ['기장', '디자인', '색상', '재질', '패키지']}\n",
      "{'review_id': 53320593, 'keywords': ['기장', '재질', '색']}\n",
      "{'review_id': 53315552, 'keywords': []}\n",
      "{'review_id': 53310580, 'keywords': ['화면', '밝기', '설치', '배송']}\n",
      "{'review_id': 53310485, 'keywords': ['길이', '주름', '색상', '두께감']}\n",
      "{'review_id': 53308071, 'keywords': ['길이', '주름', '형상기억', '색상']}\n",
      "{'review_id': 53306005, 'keywords': ['암막커튼', '사이즈', '설치과정', '어둠']}\n",
      "{'review_id': 53339502, 'keywords': ['폭신함']}\n",
      "{'review_id': 53339470, 'keywords': ['이불', '바삭거림', '포근함', '계절', '기숙사']}\n",
      "{'review_id': 53333975, 'keywords': ['이불', '구김', '세탁', '건조', '먼지']}\n",
      "{'review_id': 53331821, 'keywords': ['폭신함', '침구', '느낌']}\n",
      "{'review_id': 53326834, 'keywords': ['연회색', '재질', '감각']}\n",
      "{'review_id': 53320910, 'keywords': ['원단', '두께감', '디자인', '형태', '보풀']}\n",
      "{'review_id': 53319788, 'keywords': ['색감', '침대', '세탁']}\n",
      "{'review_id': 53317902, 'keywords': ['깔끔']}\n"
     ]
    },
    {
     "name": "stderr",
     "output_type": "stream",
     "text": [
      "Failed to send compressed multipart ingest: langsmith.utils.LangSmithRateLimitError: Rate limit exceeded for https://api.smith.langchain.com/runs/multipart. HTTPError('429 Client Error: Too Many Requests for url: https://api.smith.langchain.com/runs/multipart', '{\"error\":\"Too many requests: tenant exceeded usage limits: Monthly unique traces usage limit exceeded\"}\\n')trace=5e4e9716-c0dd-42bd-8209-c576f9760397,id=85b96560-061e-4b80-bb3e-55360a49bc94; trace=9b306026-62b7-4010-87bd-7b636fd3a737,id=6d331c50-4137-4adc-9042-406441670fa0; trace=7a0fc620-e074-4b4b-8380-0bd36b47a87f,id=6e79317e-f306-41f1-be90-b186317c8149; trace=e4c021e6-b909-4ef6-a1ed-7d3a43a7279b,id=7d17b3ca-5fc7-4eba-b55a-bea50a282bb9; trace=3e4b19a4-fa5c-4dad-bde3-581c98827c86,id=5f5e686c-d818-4452-b682-294198279e32; trace=3a128232-b3f4-455b-9156-8aaf8c43195a,id=18dbf24f-9e55-46ea-a698-5c9e120fcf93; trace=87fe50f3-7eef-40c8-8dfa-d3dc2ed5506d,id=a8ca611c-bb0d-4efa-8221-2e22bda23388; trace=3e4b19a4-fa5c-4dad-bde3-581c98827c86,id=c1af449b-d4ac-4f4f-92da-195a193b91a9; trace=3e4b19a4-fa5c-4dad-bde3-581c98827c86,id=c1af449b-d4ac-4f4f-92da-195a193b91a9; trace=3a128232-b3f4-455b-9156-8aaf8c43195a,id=5c8b15d0-a8ed-4ec4-a52a-ccbe66a1b8af; trace=7a0fc620-e074-4b4b-8380-0bd36b47a87f,id=69c9091b-de78-4c47-8d99-e80d8e572a6b; trace=3a128232-b3f4-455b-9156-8aaf8c43195a,id=5c8b15d0-a8ed-4ec4-a52a-ccbe66a1b8af; trace=e4c021e6-b909-4ef6-a1ed-7d3a43a7279b,id=0c2edc40-cf4b-47b1-9b68-eaa47149e432; trace=7a0fc620-e074-4b4b-8380-0bd36b47a87f,id=69c9091b-de78-4c47-8d99-e80d8e572a6b; trace=87fe50f3-7eef-40c8-8dfa-d3dc2ed5506d,id=86bbc262-76ed-4c6c-bc62-30e82177b770; trace=9b306026-62b7-4010-87bd-7b636fd3a737,id=d7c25855-c7f1-40db-82ea-f910cd8d7bbd; trace=e4c021e6-b909-4ef6-a1ed-7d3a43a7279b,id=0c2edc40-cf4b-47b1-9b68-eaa47149e432; trace=5e4e9716-c0dd-42bd-8209-c576f9760397,id=c900eefb-e618-41be-8421-3adc4c9f4928; trace=87fe50f3-7eef-40c8-8dfa-d3dc2ed5506d,id=86bbc262-76ed-4c6c-bc62-30e82177b770; trace=9b306026-62b7-4010-87bd-7b636fd3a737,id=d7c25855-c7f1-40db-82ea-f910cd8d7bbd; trace=5e4e9716-c0dd-42bd-8209-c576f9760397,id=c900eefb-e618-41be-8421-3adc4c9f4928; trace=3e4b19a4-fa5c-4dad-bde3-581c98827c86,id=3e4b19a4-fa5c-4dad-bde3-581c98827c86; trace=3a128232-b3f4-455b-9156-8aaf8c43195a,id=3a128232-b3f4-455b-9156-8aaf8c43195a; trace=7a0fc620-e074-4b4b-8380-0bd36b47a87f,id=7a0fc620-e074-4b4b-8380-0bd36b47a87f; trace=e4c021e6-b909-4ef6-a1ed-7d3a43a7279b,id=e4c021e6-b909-4ef6-a1ed-7d3a43a7279b; trace=87fe50f3-7eef-40c8-8dfa-d3dc2ed5506d,id=87fe50f3-7eef-40c8-8dfa-d3dc2ed5506d; trace=9b306026-62b7-4010-87bd-7b636fd3a737,id=9b306026-62b7-4010-87bd-7b636fd3a737; trace=5e4e9716-c0dd-42bd-8209-c576f9760397,id=5e4e9716-c0dd-42bd-8209-c576f9760397\n"
     ]
    }
   ],
   "source": [
    "prompt = ChatPromptTemplate.from_template(\n",
    "    \"\"\"\n",
    "    당신은 고객 리뷰 데이터를 분석하는 전문가입니다.\n",
    "    아래 리뷰 텍스트에서 **제품 관련 핵심 명사 키워드 3~5개**를 추출해주세요.\n",
    "\n",
    "    규칙:\n",
    "    - 명사만 추출합니다. (예: \"색감\", \"사이즈\", \"내구성\", \"마감\", \"쿠션감\")\n",
    "    - 감정 표현이나 불필요한 단어(\"좋아요\", \"최고\", \"만족\")는 제외합니다.\n",
    "    - 제품의 특징, 장점, 단점, 사용 경험과 관련된 단어를 중심으로 선택합니다.\n",
    "    - JSON 형식으로 출력합니다.\n",
    "\n",
    "    리뷰 ID: {review_id}\n",
    "    리뷰:\n",
    "    \"{review_text}\"\n",
    "\n",
    "    출력 예시:\n",
    "    {{\n",
    "      \"review_id\": {review_id},\n",
    "      \"keywords\": [\"색감\", \"사이즈\", \"내구성\"]\n",
    "    }}\n",
    "    \"\"\"\n",
    ")\n",
    "\n",
    "llm = ChatOpenAI(model=\"gpt-4o-mini\")\n",
    "chain = prompt | llm | JsonOutputParser()\n",
    "\n",
    "all_results = []\n",
    "\n",
    "# 슬라이싱으로 10개씩 처리\n",
    "batch_size = 10\n",
    "for i in range(0, len(inserted_reviews), batch_size):\n",
    "    batch = inserted_reviews[i : i+batch_size]  # i부터 i+10까지 자르기\n",
    "    inputs = [{\"review_id\": rid, \"review_text\": rtext} for rid, rtext in batch]\n",
    "    time.sleep(2)\n",
    "    # LLM batch 호출\n",
    "    print(f\"{i//batch_size + 1}번째 실행 중...\")\n",
    "    results = chain.batch(inputs)\n",
    "    all_results.extend(results)\n",
    "\n",
    "# 결과 확인\n",
    "for r in all_results:\n",
    "    print(r)"
   ]
  },
  {
   "cell_type": "code",
   "execution_count": 42,
   "id": "6ff285f5",
   "metadata": {},
   "outputs": [
    {
     "data": {
      "text/plain": [
       "[{'review_id': 53305893, 'keywords': ['품질', '마감', '내구성', '사용감', '성능']},\n",
       " {'review_id': 53305745, 'keywords': ['색감', '사이즈', '쿠션감']},\n",
       " {'review_id': 53291001, 'keywords': ['길이', '커튼', '재질', '가벼움']},\n",
       " {'review_id': 53290715, 'keywords': ['원단', '나비주름', '고급스러움']},\n",
       " {'review_id': 53308210, 'keywords': ['포근함']},\n",
       " {'review_id': 53308125, 'keywords': []},\n",
       " {'review_id': 53306498, 'keywords': ['보들보들함', '세탁기', '편리함']},\n",
       " {'review_id': 53306432, 'keywords': ['포근함', '사계절용', '배송']},\n",
       " {'review_id': 53294962, 'keywords': ['배송', '주름', '안내서', '프라이버시']},\n",
       " {'review_id': 53316092, 'keywords': ['이불', '감촉', '느낌']},\n",
       " {'review_id': 53313553, 'keywords': ['부드러움', '냉감', '아이들']},\n",
       " {'review_id': 53313020, 'keywords': ['촉감', '사계절', '여름', '이불', '편']},\n",
       " {'review_id': 53312735, 'keywords': ['색감', '보온', '간절기', '이불']},\n",
       " {'review_id': 53308947, 'keywords': ['원단']},\n",
       " {'review_id': 53315265, 'keywords': ['커텐', '사이즈', '천', '나비주름']},\n",
       " {'review_id': 53312244, 'keywords': ['채광', '고급스러움', '커텐']},\n",
       " {'review_id': 53310616, 'keywords': ['커튼', '천', '레일', '주름', '배송']},\n",
       " {'review_id': 53309977, 'keywords': ['가로길이', '주름']},\n",
       " {'review_id': 53309625, 'keywords': ['커튼', '여유길이', '주름']},\n",
       " {'review_id': 53305215, 'keywords': ['화이트', '주름', '설치', '사이즈']},\n",
       " {'review_id': 53304420, 'keywords': ['길이', '가격']},\n",
       " {'review_id': 53302877, 'keywords': ['가리개', '커튼', '봉', '색상', '재구매']},\n",
       " {'review_id': 53302773, 'keywords': ['커튼', '비침', '화사함', '재구매']},\n",
       " {'review_id': 53352884, 'keywords': ['푹신푹신', '이불', '포근함', '가벼움']},\n",
       " {'review_id': 53352407, 'keywords': ['차렵이불', '촉감', '퀄리티']},\n",
       " {'review_id': 53352305, 'keywords': ['색', '커버', '차렵이불', '두께', '촉감']},\n",
       " {'review_id': 53350801, 'keywords': ['침대', '원단', '이불', '간절기']},\n",
       " {'review_id': 53350605, 'keywords': ['침대', '셋트', '베리', '색감']},\n",
       " {'review_id': 53350214, 'keywords': []},\n",
       " {'review_id': 53349114, 'keywords': ['이불', '포근함', '분위기']},\n",
       " {'review_id': 53354167, 'keywords': ['커튼', '종류', '금액대', '인테리어']},\n",
       " {'review_id': 53353059, 'keywords': ['분위기', '거실', '커튼', '주름', '사이즈']},\n",
       " {'review_id': 53352036, 'keywords': ['커튼', '디자인', '빛', '공간', '인테리어']},\n",
       " {'review_id': 53351933, 'keywords': ['도톰', '커텐', '강바람', '박음질', '튜튼']},\n",
       " {'review_id': 53351699, 'keywords': ['커텐', '제작 기간', '길이', '예쁨']},\n",
       " {'review_id': 53348242, 'keywords': ['커튼', '암막', '세탁']},\n",
       " {'review_id': 53344043, 'keywords': ['사이즈', '집', '이사']},\n",
       " {'review_id': 53344003, 'keywords': ['거실커텐', '빛 차단', '사생활 보호', '길이', '원단']},\n",
       " {'review_id': 53342075, 'keywords': ['커텐', '주름', '거실', '나비주름']},\n",
       " {'review_id': 53335778, 'keywords': ['가격']},\n",
       " {'review_id': 53330980, 'keywords': ['쉬폰커튼', '거실', '분위기', '속커튼', '느낌']},\n",
       " {'review_id': 53329090, 'keywords': ['주름', '길이', '기간']},\n",
       " {'review_id': 53327863, 'keywords': []},\n",
       " {'review_id': 53327048, 'keywords': ['카텐', '인테리어', '화이트', '퀄리티']},\n",
       " {'review_id': 53326362, 'keywords': ['사이즈', '빛', '디자인']},\n",
       " {'review_id': 53354018, 'keywords': ['암막', '밝은색', '형상기억', '느낌']},\n",
       " {'review_id': 53350097, 'keywords': ['커튼', '햇빛', '차단', '분위기']},\n",
       " {'review_id': 53349520, 'keywords': ['가로길이', '색상', '무게감', '재질']},\n",
       " {'review_id': 53349198, 'keywords': ['색상', '암막', '주름']},\n",
       " {'review_id': 53348345, 'keywords': ['암막', '커텐', '차이', '해', '사용']},\n",
       " {'review_id': 53341211, 'keywords': ['암막커튼', '걸이', '제품', '질', '바느질']},\n",
       " {'review_id': 53331855, 'keywords': ['커튼', '주문', '암막']},\n",
       " {'review_id': 53320669, 'keywords': ['기장', '디자인', '색상', '재질', '패키지']},\n",
       " {'review_id': 53320593, 'keywords': ['기장', '재질', '색']},\n",
       " {'review_id': 53315552, 'keywords': []},\n",
       " {'review_id': 53310580, 'keywords': ['화면', '밝기', '설치', '배송']},\n",
       " {'review_id': 53310485, 'keywords': ['길이', '주름', '색상', '두께감']},\n",
       " {'review_id': 53308071, 'keywords': ['길이', '주름', '형상기억', '색상']},\n",
       " {'review_id': 53306005, 'keywords': ['암막커튼', '사이즈', '설치과정', '어둠']},\n",
       " {'review_id': 53339502, 'keywords': ['폭신함']},\n",
       " {'review_id': 53339470, 'keywords': ['이불', '바삭거림', '포근함', '계절', '기숙사']},\n",
       " {'review_id': 53333975, 'keywords': ['이불', '구김', '세탁', '건조', '먼지']},\n",
       " {'review_id': 53331821, 'keywords': ['폭신함', '침구', '느낌']},\n",
       " {'review_id': 53326834, 'keywords': ['연회색', '재질', '감각']},\n",
       " {'review_id': 53320910, 'keywords': ['원단', '두께감', '디자인', '형태', '보풀']},\n",
       " {'review_id': 53319788, 'keywords': ['색감', '침대', '세탁']},\n",
       " {'review_id': 53317902, 'keywords': ['깔끔']}]"
      ]
     },
     "execution_count": 42,
     "metadata": {},
     "output_type": "execute_result"
    }
   ],
   "source": [
    "all_results"
   ]
  },
  {
   "cell_type": "markdown",
   "id": "3e4852fc",
   "metadata": {},
   "source": [
    "### 리뷰 카테고리 분류"
   ]
  },
  {
   "cell_type": "code",
   "execution_count": null,
   "id": "9485ee40",
   "metadata": {},
   "outputs": [],
   "source": [
    "prompt = PromptTemplate.from_template(\n",
    "    \"\"\"Classify the given user question into only one of the following categories:\n",
    "    배송: \n",
    "    사용감: 이용자들이 사용한 후 경험으로 \"부드럽다\", \"촉촉하다\", \"자극적이다\" 이런 리뷰 위주로 분류해줘.\n",
    "    사이즈: \n",
    "    디자인: \n",
    "    품질: \n",
    "\n",
    "    If there are multiple categories mixed in the content, return multiple categories. 매치되는 카테고리가 없으면 None으로 출력해줘.\n",
    "    Return the result in JSON format. 주석 없이, 모든 필드는 문자열로 작성하십시오.\n",
    "    Content: {Content}\n",
    "    category: 배송, 사용감, 사이즈, 디자인, 품질, None\"\"\"\n",
    ")\n",
    "\n",
    "llm = ChatOpenAI(model=\"gpt-4o-mini\")\n",
    "chain = prompt | llm | JsonOutputParser()\n",
    "\n"
   ]
  },
  {
   "cell_type": "code",
   "execution_count": null,
   "id": "4604ef89",
   "metadata": {},
   "outputs": [],
   "source": []
  }
 ],
 "metadata": {
  "kernelspec": {
   "display_name": "llm",
   "language": "python",
   "name": "python3"
  },
  "language_info": {
   "codemirror_mode": {
    "name": "ipython",
    "version": 3
   },
   "file_extension": ".py",
   "mimetype": "text/x-python",
   "name": "python",
   "nbconvert_exporter": "python",
   "pygments_lexer": "ipython3",
   "version": "3.11.13"
  }
 },
 "nbformat": 4,
 "nbformat_minor": 5
}
